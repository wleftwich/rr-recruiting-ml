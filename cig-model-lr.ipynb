{
 "cells": [
  {
   "cell_type": "markdown",
   "metadata": {},
   "source": [
    "# Careers in gear\n",
    "## Predict hire / nohire from lead_details.csv\n",
    "\n",
    "### Logistic regression\n"
   ]
  },
  {
   "cell_type": "code",
   "execution_count": 2,
   "metadata": {},
   "outputs": [],
   "source": [
    "import logging\n",
    "logging.basicConfig()\n",
    "logger = logging.getLogger()\n",
    "logger.setLevel('ERROR')\n",
    "\n",
    "import shutil\n",
    "import pathlib\n",
    "import pickle\n",
    "import itertools\n",
    "\n",
    "import pandas as pd\n",
    "import numpy as np\n",
    "import joblib\n",
    "\n",
    "from sklearn.model_selection import train_test_split\n",
    "from sklearn.pipeline import Pipeline, FeatureUnion\n",
    "from sklearn.preprocessing import StandardScaler, MinMaxScaler, FunctionTransformer\n",
    "\n",
    "from sklearn.utils.class_weight import compute_class_weight\n",
    "from sklearn.metrics import (\n",
    "    roc_curve,\n",
    "    roc_auc_score,\n",
    "    precision_recall_curve,\n",
    "    precision_score,\n",
    "    recall_score,\n",
    "    average_precision_score\n",
    ")\n",
    "\n",
    "from sklearn.linear_model import LogisticRegression, LogisticRegressionCV, ElasticNetCV\n",
    "\n",
    "\n",
    "\n",
    "from pp_pipeline_utils import (\n",
    "    DataFrameSelector,\n",
    "    CategoricalEncoder\n",
    ")\n",
    "\n",
    "from metric_utils import (\n",
    "    plot_precision_recall,\n",
    "    plot_roc,\n",
    "    plot_precision_vs_score,\n",
    "    precision_at_score_percentile,\n",
    "    precision_by_score_buckets,\n",
    "    plot_precision_by_score_buckets,\n",
    "    plot_bucket_counts\n",
    ")\n",
    "\n"
   ]
  },
  {
   "cell_type": "code",
   "execution_count": 3,
   "metadata": {},
   "outputs": [],
   "source": [
    "np.random.seed(42)"
   ]
  },
  {
   "cell_type": "code",
   "execution_count": 4,
   "metadata": {},
   "outputs": [],
   "source": [
    "%matplotlib inline\n",
    "import matplotlib.pyplot as plt\n",
    "import seaborn as sns\n",
    "sns.set()\n",
    "sns.set_palette(sns.color_palette(\"Set2\", 10))"
   ]
  },
  {
   "cell_type": "code",
   "execution_count": 5,
   "metadata": {},
   "outputs": [],
   "source": [
    "features_file = 'data/cig_features.parq'"
   ]
  },
  {
   "cell_type": "code",
   "execution_count": 6,
   "metadata": {},
   "outputs": [],
   "source": [
    "features = pd.read_parquet(features_file)"
   ]
  },
  {
   "cell_type": "code",
   "execution_count": 7,
   "metadata": {
    "scrolled": true
   },
   "outputs": [
    {
     "data": {
      "text/html": [
       "<div>\n",
       "<style scoped>\n",
       "    .dataframe tbody tr th:only-of-type {\n",
       "        vertical-align: middle;\n",
       "    }\n",
       "\n",
       "    .dataframe tbody tr th {\n",
       "        vertical-align: top;\n",
       "    }\n",
       "\n",
       "    .dataframe thead th {\n",
       "        text-align: right;\n",
       "    }\n",
       "</style>\n",
       "<table border=\"1\" class=\"dataframe\">\n",
       "  <thead>\n",
       "    <tr style=\"text-align: right;\">\n",
       "      <th></th>\n",
       "      <th>4522</th>\n",
       "      <th>2499</th>\n",
       "      <th>1413</th>\n",
       "      <th>4357</th>\n",
       "      <th>3830</th>\n",
       "    </tr>\n",
       "  </thead>\n",
       "  <tbody>\n",
       "    <tr>\n",
       "      <td>lead_id</td>\n",
       "      <td>9055365</td>\n",
       "      <td>9337921</td>\n",
       "      <td>1660939</td>\n",
       "      <td>13010742</td>\n",
       "      <td>10484415</td>\n",
       "    </tr>\n",
       "    <tr>\n",
       "      <td>form_data_id</td>\n",
       "      <td>438970</td>\n",
       "      <td>454948</td>\n",
       "      <td>230119</td>\n",
       "      <td>1134721</td>\n",
       "      <td>672895</td>\n",
       "    </tr>\n",
       "    <tr>\n",
       "      <td>lead_match_client_id</td>\n",
       "      <td>5815</td>\n",
       "      <td>5709</td>\n",
       "      <td>10</td>\n",
       "      <td>11</td>\n",
       "      <td>5817</td>\n",
       "    </tr>\n",
       "    <tr>\n",
       "      <td>structured_campaign_name</td>\n",
       "      <td>Martin Resource Management : Regional (Martin ...</td>\n",
       "      <td>Trans System Inc : System Transport Pacific No...</td>\n",
       "      <td>US Xpress : Dedicated : p5 : a13 : M_1140093 (R)</td>\n",
       "      <td>K and B Transportation Inc. : otr (OTR 4) : PM...</td>\n",
       "      <td>Ozark : Company Driver : PMC p5 : a1 : M_11350...</td>\n",
       "    </tr>\n",
       "    <tr>\n",
       "      <td>company_nicename</td>\n",
       "      <td>Martin Resource Management</td>\n",
       "      <td>System Transport</td>\n",
       "      <td>US Xpress</td>\n",
       "      <td>K&amp;B Transportation</td>\n",
       "      <td>Ozark Motor Lines, Inc</td>\n",
       "    </tr>\n",
       "    <tr>\n",
       "      <td>full_name</td>\n",
       "      <td>Curtis Hale</td>\n",
       "      <td>Danny Malone</td>\n",
       "      <td>Louis Hubbard</td>\n",
       "      <td>ROBERT TOBAR</td>\n",
       "      <td>Joel Bishop</td>\n",
       "    </tr>\n",
       "    <tr>\n",
       "      <td>hired</td>\n",
       "      <td>0</td>\n",
       "      <td>0</td>\n",
       "      <td>1</td>\n",
       "      <td>1</td>\n",
       "      <td>1</td>\n",
       "    </tr>\n",
       "    <tr>\n",
       "      <td>city</td>\n",
       "      <td>Longview</td>\n",
       "      <td>Long Beach</td>\n",
       "      <td>Montgomery</td>\n",
       "      <td>Covington</td>\n",
       "      <td>Flat Rock</td>\n",
       "    </tr>\n",
       "    <tr>\n",
       "      <td>state</td>\n",
       "      <td>TX</td>\n",
       "      <td>CA</td>\n",
       "      <td>AL</td>\n",
       "      <td>TN</td>\n",
       "      <td>NC</td>\n",
       "    </tr>\n",
       "    <tr>\n",
       "      <td>zip</td>\n",
       "      <td>75604</td>\n",
       "      <td>90804</td>\n",
       "      <td>36106</td>\n",
       "      <td>38019</td>\n",
       "      <td>28731</td>\n",
       "    </tr>\n",
       "    <tr>\n",
       "      <td>years_otr_exp</td>\n",
       "      <td>11-15 years</td>\n",
       "      <td>18-24 months</td>\n",
       "      <td>0-3 months</td>\n",
       "      <td>18-24 months</td>\n",
       "      <td>5 years</td>\n",
       "    </tr>\n",
       "    <tr>\n",
       "      <td>lease_purchase</td>\n",
       "      <td>0</td>\n",
       "      <td>0</td>\n",
       "      <td>0</td>\n",
       "      <td>0</td>\n",
       "      <td>0</td>\n",
       "    </tr>\n",
       "    <tr>\n",
       "      <td>drivers_license_class_a</td>\n",
       "      <td>1</td>\n",
       "      <td>1</td>\n",
       "      <td>1</td>\n",
       "      <td>1</td>\n",
       "      <td>1</td>\n",
       "    </tr>\n",
       "    <tr>\n",
       "      <td>driver_type</td>\n",
       "      <td>company_driver</td>\n",
       "      <td>company_driver</td>\n",
       "      <td>student</td>\n",
       "      <td>company_driver</td>\n",
       "      <td>company_driver</td>\n",
       "    </tr>\n",
       "    <tr>\n",
       "      <td>hazmat</td>\n",
       "      <td>0</td>\n",
       "      <td>0</td>\n",
       "      <td>0</td>\n",
       "      <td>0</td>\n",
       "      <td>0</td>\n",
       "    </tr>\n",
       "    <tr>\n",
       "      <td>tanker</td>\n",
       "      <td>1</td>\n",
       "      <td>0</td>\n",
       "      <td>0</td>\n",
       "      <td>0</td>\n",
       "      <td>0</td>\n",
       "    </tr>\n",
       "    <tr>\n",
       "      <td>doublestriples</td>\n",
       "      <td>0</td>\n",
       "      <td>0</td>\n",
       "      <td>0</td>\n",
       "      <td>0</td>\n",
       "      <td>0</td>\n",
       "    </tr>\n",
       "    <tr>\n",
       "      <td>tickets</td>\n",
       "      <td>0</td>\n",
       "      <td>0</td>\n",
       "      <td>0</td>\n",
       "      <td>0</td>\n",
       "      <td>0</td>\n",
       "    </tr>\n",
       "    <tr>\n",
       "      <td>job_alerts</td>\n",
       "      <td>1</td>\n",
       "      <td>0</td>\n",
       "      <td>1</td>\n",
       "      <td>1</td>\n",
       "      <td>0</td>\n",
       "    </tr>\n",
       "    <tr>\n",
       "      <td>sms_alerts_opt_in</td>\n",
       "      <td>1</td>\n",
       "      <td>1</td>\n",
       "      <td>0</td>\n",
       "      <td>0</td>\n",
       "      <td>1</td>\n",
       "    </tr>\n",
       "    <tr>\n",
       "      <td>came_from_suggested_job</td>\n",
       "      <td>0</td>\n",
       "      <td>1</td>\n",
       "      <td>0</td>\n",
       "      <td>1</td>\n",
       "      <td>0</td>\n",
       "    </tr>\n",
       "    <tr>\n",
       "      <td>run_single</td>\n",
       "      <td>1</td>\n",
       "      <td>1</td>\n",
       "      <td>0</td>\n",
       "      <td>1</td>\n",
       "      <td>1</td>\n",
       "    </tr>\n",
       "    <tr>\n",
       "      <td>run_team</td>\n",
       "      <td>0</td>\n",
       "      <td>0</td>\n",
       "      <td>0</td>\n",
       "      <td>0</td>\n",
       "      <td>0</td>\n",
       "    </tr>\n",
       "    <tr>\n",
       "      <td>flatbed</td>\n",
       "      <td>1</td>\n",
       "      <td>0</td>\n",
       "      <td>0</td>\n",
       "      <td>0</td>\n",
       "      <td>1</td>\n",
       "    </tr>\n",
       "    <tr>\n",
       "      <td>van</td>\n",
       "      <td>1</td>\n",
       "      <td>1</td>\n",
       "      <td>0</td>\n",
       "      <td>1</td>\n",
       "      <td>1</td>\n",
       "    </tr>\n",
       "    <tr>\n",
       "      <td>reefer</td>\n",
       "      <td>0</td>\n",
       "      <td>1</td>\n",
       "      <td>0</td>\n",
       "      <td>0</td>\n",
       "      <td>1</td>\n",
       "    </tr>\n",
       "    <tr>\n",
       "      <td>specialized</td>\n",
       "      <td>0</td>\n",
       "      <td>0</td>\n",
       "      <td>0</td>\n",
       "      <td>0</td>\n",
       "      <td>0</td>\n",
       "    </tr>\n",
       "    <tr>\n",
       "      <td>multi</td>\n",
       "      <td>0</td>\n",
       "      <td>0</td>\n",
       "      <td>0</td>\n",
       "      <td>0</td>\n",
       "      <td>0</td>\n",
       "    </tr>\n",
       "    <tr>\n",
       "      <td>oversized</td>\n",
       "      <td>0</td>\n",
       "      <td>0</td>\n",
       "      <td>0</td>\n",
       "      <td>0</td>\n",
       "      <td>0</td>\n",
       "    </tr>\n",
       "    <tr>\n",
       "      <td>stepdeck</td>\n",
       "      <td>0</td>\n",
       "      <td>0</td>\n",
       "      <td>0</td>\n",
       "      <td>0</td>\n",
       "      <td>0</td>\n",
       "    </tr>\n",
       "    <tr>\n",
       "      <td>heavy_haul</td>\n",
       "      <td>0</td>\n",
       "      <td>0</td>\n",
       "      <td>0</td>\n",
       "      <td>0</td>\n",
       "      <td>0</td>\n",
       "    </tr>\n",
       "    <tr>\n",
       "      <td>haul_tanker</td>\n",
       "      <td>1</td>\n",
       "      <td>0</td>\n",
       "      <td>0</td>\n",
       "      <td>0</td>\n",
       "      <td>0</td>\n",
       "    </tr>\n",
       "    <tr>\n",
       "      <td>exp_yr_num</td>\n",
       "      <td>13</td>\n",
       "      <td>2</td>\n",
       "      <td>0.25</td>\n",
       "      <td>2</td>\n",
       "      <td>5</td>\n",
       "    </tr>\n",
       "    <tr>\n",
       "      <td>climate_region</td>\n",
       "      <td>S</td>\n",
       "      <td>W</td>\n",
       "      <td>SE</td>\n",
       "      <td>C</td>\n",
       "      <td>SE</td>\n",
       "    </tr>\n",
       "  </tbody>\n",
       "</table>\n",
       "</div>"
      ],
      "text/plain": [
       "                                                                       4522  \\\n",
       "lead_id                                                             9055365   \n",
       "form_data_id                                                         438970   \n",
       "lead_match_client_id                                                   5815   \n",
       "structured_campaign_name  Martin Resource Management : Regional (Martin ...   \n",
       "company_nicename                                 Martin Resource Management   \n",
       "full_name                                                       Curtis Hale   \n",
       "hired                                                                     0   \n",
       "city                                                               Longview   \n",
       "state                                                                    TX   \n",
       "zip                                                                   75604   \n",
       "years_otr_exp                                                   11-15 years   \n",
       "lease_purchase                                                            0   \n",
       "drivers_license_class_a                                                   1   \n",
       "driver_type                                                  company_driver   \n",
       "hazmat                                                                    0   \n",
       "tanker                                                                    1   \n",
       "doublestriples                                                            0   \n",
       "tickets                                                                   0   \n",
       "job_alerts                                                                1   \n",
       "sms_alerts_opt_in                                                         1   \n",
       "came_from_suggested_job                                                   0   \n",
       "run_single                                                                1   \n",
       "run_team                                                                  0   \n",
       "flatbed                                                                   1   \n",
       "van                                                                       1   \n",
       "reefer                                                                    0   \n",
       "specialized                                                               0   \n",
       "multi                                                                     0   \n",
       "oversized                                                                 0   \n",
       "stepdeck                                                                  0   \n",
       "heavy_haul                                                                0   \n",
       "haul_tanker                                                               1   \n",
       "exp_yr_num                                                               13   \n",
       "climate_region                                                            S   \n",
       "\n",
       "                                                                       2499  \\\n",
       "lead_id                                                             9337921   \n",
       "form_data_id                                                         454948   \n",
       "lead_match_client_id                                                   5709   \n",
       "structured_campaign_name  Trans System Inc : System Transport Pacific No...   \n",
       "company_nicename                                           System Transport   \n",
       "full_name                                                      Danny Malone   \n",
       "hired                                                                     0   \n",
       "city                                                             Long Beach   \n",
       "state                                                                    CA   \n",
       "zip                                                                   90804   \n",
       "years_otr_exp                                                  18-24 months   \n",
       "lease_purchase                                                            0   \n",
       "drivers_license_class_a                                                   1   \n",
       "driver_type                                                  company_driver   \n",
       "hazmat                                                                    0   \n",
       "tanker                                                                    0   \n",
       "doublestriples                                                            0   \n",
       "tickets                                                                   0   \n",
       "job_alerts                                                                0   \n",
       "sms_alerts_opt_in                                                         1   \n",
       "came_from_suggested_job                                                   1   \n",
       "run_single                                                                1   \n",
       "run_team                                                                  0   \n",
       "flatbed                                                                   0   \n",
       "van                                                                       1   \n",
       "reefer                                                                    1   \n",
       "specialized                                                               0   \n",
       "multi                                                                     0   \n",
       "oversized                                                                 0   \n",
       "stepdeck                                                                  0   \n",
       "heavy_haul                                                                0   \n",
       "haul_tanker                                                               0   \n",
       "exp_yr_num                                                                2   \n",
       "climate_region                                                            W   \n",
       "\n",
       "                                                                      1413  \\\n",
       "lead_id                                                            1660939   \n",
       "form_data_id                                                        230119   \n",
       "lead_match_client_id                                                    10   \n",
       "structured_campaign_name  US Xpress : Dedicated : p5 : a13 : M_1140093 (R)   \n",
       "company_nicename                                                 US Xpress   \n",
       "full_name                                                    Louis Hubbard   \n",
       "hired                                                                    1   \n",
       "city                                                            Montgomery   \n",
       "state                                                                   AL   \n",
       "zip                                                                  36106   \n",
       "years_otr_exp                                                   0-3 months   \n",
       "lease_purchase                                                           0   \n",
       "drivers_license_class_a                                                  1   \n",
       "driver_type                                                        student   \n",
       "hazmat                                                                   0   \n",
       "tanker                                                                   0   \n",
       "doublestriples                                                           0   \n",
       "tickets                                                                  0   \n",
       "job_alerts                                                               1   \n",
       "sms_alerts_opt_in                                                        0   \n",
       "came_from_suggested_job                                                  0   \n",
       "run_single                                                               0   \n",
       "run_team                                                                 0   \n",
       "flatbed                                                                  0   \n",
       "van                                                                      0   \n",
       "reefer                                                                   0   \n",
       "specialized                                                              0   \n",
       "multi                                                                    0   \n",
       "oversized                                                                0   \n",
       "stepdeck                                                                 0   \n",
       "heavy_haul                                                               0   \n",
       "haul_tanker                                                              0   \n",
       "exp_yr_num                                                            0.25   \n",
       "climate_region                                                          SE   \n",
       "\n",
       "                                                                       4357  \\\n",
       "lead_id                                                            13010742   \n",
       "form_data_id                                                        1134721   \n",
       "lead_match_client_id                                                     11   \n",
       "structured_campaign_name  K and B Transportation Inc. : otr (OTR 4) : PM...   \n",
       "company_nicename                                         K&B Transportation   \n",
       "full_name                                                      ROBERT TOBAR   \n",
       "hired                                                                     1   \n",
       "city                                                              Covington   \n",
       "state                                                                    TN   \n",
       "zip                                                                   38019   \n",
       "years_otr_exp                                                  18-24 months   \n",
       "lease_purchase                                                            0   \n",
       "drivers_license_class_a                                                   1   \n",
       "driver_type                                                  company_driver   \n",
       "hazmat                                                                    0   \n",
       "tanker                                                                    0   \n",
       "doublestriples                                                            0   \n",
       "tickets                                                                   0   \n",
       "job_alerts                                                                1   \n",
       "sms_alerts_opt_in                                                         0   \n",
       "came_from_suggested_job                                                   1   \n",
       "run_single                                                                1   \n",
       "run_team                                                                  0   \n",
       "flatbed                                                                   0   \n",
       "van                                                                       1   \n",
       "reefer                                                                    0   \n",
       "specialized                                                               0   \n",
       "multi                                                                     0   \n",
       "oversized                                                                 0   \n",
       "stepdeck                                                                  0   \n",
       "heavy_haul                                                                0   \n",
       "haul_tanker                                                               0   \n",
       "exp_yr_num                                                                2   \n",
       "climate_region                                                            C   \n",
       "\n",
       "                                                                       3830  \n",
       "lead_id                                                            10484415  \n",
       "form_data_id                                                         672895  \n",
       "lead_match_client_id                                                   5817  \n",
       "structured_campaign_name  Ozark : Company Driver : PMC p5 : a1 : M_11350...  \n",
       "company_nicename                                     Ozark Motor Lines, Inc  \n",
       "full_name                                                       Joel Bishop  \n",
       "hired                                                                     1  \n",
       "city                                                              Flat Rock  \n",
       "state                                                                    NC  \n",
       "zip                                                                   28731  \n",
       "years_otr_exp                                                       5 years  \n",
       "lease_purchase                                                            0  \n",
       "drivers_license_class_a                                                   1  \n",
       "driver_type                                                  company_driver  \n",
       "hazmat                                                                    0  \n",
       "tanker                                                                    0  \n",
       "doublestriples                                                            0  \n",
       "tickets                                                                   0  \n",
       "job_alerts                                                                0  \n",
       "sms_alerts_opt_in                                                         1  \n",
       "came_from_suggested_job                                                   0  \n",
       "run_single                                                                1  \n",
       "run_team                                                                  0  \n",
       "flatbed                                                                   1  \n",
       "van                                                                       1  \n",
       "reefer                                                                    1  \n",
       "specialized                                                               0  \n",
       "multi                                                                     0  \n",
       "oversized                                                                 0  \n",
       "stepdeck                                                                  0  \n",
       "heavy_haul                                                                0  \n",
       "haul_tanker                                                               0  \n",
       "exp_yr_num                                                                5  \n",
       "climate_region                                                           SE  "
      ]
     },
     "execution_count": 7,
     "metadata": {},
     "output_type": "execute_result"
    }
   ],
   "source": [
    "features.sample(5).T"
   ]
  },
  {
   "cell_type": "code",
   "execution_count": 8,
   "metadata": {},
   "outputs": [
    {
     "data": {
      "text/plain": [
       "1558"
      ]
     },
     "execution_count": 8,
     "metadata": {},
     "output_type": "execute_result"
    }
   ],
   "source": [
    "features.hired.sum()"
   ]
  },
  {
   "cell_type": "code",
   "execution_count": 9,
   "metadata": {},
   "outputs": [
    {
     "data": {
      "text/plain": [
       "0.30471347545472327"
      ]
     },
     "execution_count": 9,
     "metadata": {},
     "output_type": "execute_result"
    }
   ],
   "source": [
    "p_hired = features.hired.sum() / len(features)\n",
    "p_hired"
   ]
  },
  {
   "cell_type": "code",
   "execution_count": 10,
   "metadata": {},
   "outputs": [],
   "source": [
    "def ordinal_keys(s):\n",
    "    sset = set(s)\n",
    "    sset.add('')\n",
    "    return sorted(sset)"
   ]
  },
  {
   "cell_type": "code",
   "execution_count": 11,
   "metadata": {},
   "outputs": [],
   "source": [
    "category_keys = [\n",
    "    'driver_type',\n",
    "    'climate_region'\n",
    "]\n",
    "\n",
    "for ck in category_keys:\n",
    "    features[ck] = features[ck].fillna('')\n",
    "\n",
    "category_values = {x: ordinal_keys(features[x].unique()) for x in category_keys}\n",
    "category_lookup = {x:x for x in category_keys}\n",
    "\n",
    "def get_cat_vals(cat):\n",
    "    return category_values[category_lookup[cat]]\n",
    "\n",
    "def make_cat_encoder(atts, encoding='onehot', handle_unknown='ignore'):\n",
    "    return CategoricalEncoder(encoding=encoding,\n",
    "                              categories=[get_cat_vals(x) for x in atts],\n",
    "                              handle_unknown=handle_unknown)"
   ]
  },
  {
   "cell_type": "code",
   "execution_count": 12,
   "metadata": {},
   "outputs": [],
   "source": [
    "numeric_atts = [\n",
    "    'exp_yr_num',\n",
    "    'tickets',\n",
    "    # rest are boolean\n",
    "    \n",
    "    'lease_purchase',\n",
    "    'drivers_license_class_a',\n",
    "    'hazmat',\n",
    "    'tanker',\n",
    "    'doublestriples',\n",
    "    'job_alerts',\n",
    "    'sms_alerts_opt_in',\n",
    "    'came_from_suggested_job',\n",
    "    'run_single',\n",
    "    'run_team',\n",
    "    'flatbed',\n",
    "    'van',\n",
    "    'reefer',\n",
    "    'multi',\n",
    "    'oversized',\n",
    "    'stepdeck',\n",
    "    'heavy_haul',\n",
    "    'haul_tanker',\n",
    "]\n",
    "\n",
    "category_atts = [\n",
    "    'driver_type',\n",
    "    'climate_region'\n",
    "]"
   ]
  },
  {
   "cell_type": "code",
   "execution_count": 13,
   "metadata": {},
   "outputs": [
    {
     "data": {
      "text/plain": [
       "(4090, 1023)"
      ]
     },
     "execution_count": 13,
     "metadata": {},
     "output_type": "execute_result"
    }
   ],
   "source": [
    "train_set, test_set = train_test_split(features.copy(), test_size=0.2)\n",
    "len(train_set), len(test_set)"
   ]
  },
  {
   "cell_type": "code",
   "execution_count": 14,
   "metadata": {},
   "outputs": [],
   "source": [
    "num_pipeline = Pipeline([\n",
    "    ('selector', DataFrameSelector(numeric_atts)),\n",
    "    ('std_scaler', StandardScaler())\n",
    "])\n",
    "\n",
    "cat_pipeline = Pipeline([\n",
    "    ('selector', DataFrameSelector(category_atts)),\n",
    "    ('cat_encoder', make_cat_encoder(category_atts, encoding='onehot', handle_unknown='error'))\n",
    "])\n",
    "\n",
    "pipeline = FeatureUnion([\n",
    "    ('num_pipeline', num_pipeline),\n",
    "    ('cat_pipeline', cat_pipeline)\n",
    "])"
   ]
  },
  {
   "cell_type": "code",
   "execution_count": 15,
   "metadata": {},
   "outputs": [
    {
     "name": "stdout",
     "output_type": "stream",
     "text": [
      "CPU times: user 6.58 ms, sys: 706 µs, total: 7.29 ms\n",
      "Wall time: 6.94 ms\n"
     ]
    },
    {
     "data": {
      "text/plain": [
       "FeatureUnion(n_jobs=None,\n",
       "             transformer_list=[('num_pipeline',\n",
       "                                Pipeline(memory=None,\n",
       "                                         steps=[('selector',\n",
       "                                                 DataFrameSelector(attribute_names=['exp_yr_num',\n",
       "                                                                                    'tickets',\n",
       "                                                                                    'lease_purchase',\n",
       "                                                                                    'drivers_license_class_a',\n",
       "                                                                                    'hazmat',\n",
       "                                                                                    'tanker',\n",
       "                                                                                    'doublestriples',\n",
       "                                                                                    'job_alerts',\n",
       "                                                                                    'sms_alerts_opt_in',\n",
       "                                                                                    'came_from_suggested_job',\n",
       "                                                                                    'run_single',\n",
       "                                                                                    'run_team',\n",
       "                                                                                    'flatbed',\n",
       "                                                                                    'van',\n",
       "                                                                                    'reefer',\n",
       "                                                                                    'multi'...\n",
       "                                                 DataFrameSelector(attribute_names=['driver_type',\n",
       "                                                                                    'climate_region'])),\n",
       "                                                ('cat_encoder',\n",
       "                                                 CategoricalEncoder(categories=[['',\n",
       "                                                                                 'company_driver',\n",
       "                                                                                 'lease_purchase',\n",
       "                                                                                 'owner_operator',\n",
       "                                                                                 'student'],\n",
       "                                                                                ['',\n",
       "                                                                                 'AK',\n",
       "                                                                                 'C',\n",
       "                                                                                 'ENC',\n",
       "                                                                                 'HI',\n",
       "                                                                                 'NE',\n",
       "                                                                                 'NW',\n",
       "                                                                                 'S',\n",
       "                                                                                 'SE',\n",
       "                                                                                 'SW',\n",
       "                                                                                 'W',\n",
       "                                                                                 'WNC']],\n",
       "                                                                    dtype=<class 'numpy.float64'>,\n",
       "                                                                    encoding='onehot',\n",
       "                                                                    handle_unknown='error'))],\n",
       "                                         verbose=False))],\n",
       "             transformer_weights=None, verbose=False)"
      ]
     },
     "execution_count": 15,
     "metadata": {},
     "output_type": "execute_result"
    }
   ],
   "source": [
    "%%time\n",
    "pipeline.fit(train_set)"
   ]
  },
  {
   "cell_type": "code",
   "execution_count": 16,
   "metadata": {},
   "outputs": [],
   "source": [
    "X_train = pipeline.transform(train_set).toarray()\n",
    "y_train = train_set.hired"
   ]
  },
  {
   "cell_type": "code",
   "execution_count": 17,
   "metadata": {},
   "outputs": [],
   "source": [
    "X_test = pipeline.transform(test_set).toarray()\n",
    "y_test = test_set.hired"
   ]
  },
  {
   "cell_type": "code",
   "execution_count": 18,
   "metadata": {},
   "outputs": [
    {
     "data": {
      "text/plain": [
       "((4090, 37), (1023, 37))"
      ]
     },
     "execution_count": 18,
     "metadata": {},
     "output_type": "execute_result"
    }
   ],
   "source": [
    "X_train.shape, X_test.shape"
   ]
  },
  {
   "cell_type": "code",
   "execution_count": 19,
   "metadata": {},
   "outputs": [
    {
     "data": {
      "text/plain": [
       "(4090, 37)"
      ]
     },
     "execution_count": 19,
     "metadata": {},
     "output_type": "execute_result"
    }
   ],
   "source": [
    "n_train_records, n_features = X_train.shape\n",
    "n_train_records, n_features"
   ]
  },
  {
   "cell_type": "code",
   "execution_count": 20,
   "metadata": {},
   "outputs": [
    {
     "data": {
      "text/plain": [
       "(37,)"
      ]
     },
     "execution_count": 20,
     "metadata": {},
     "output_type": "execute_result"
    }
   ],
   "source": [
    "col_nonzero_fractions = np.asarray((np.sum((X_train > 0), axis=0) / n_train_records)).ravel()\n",
    "col_nonzero_fractions.shape"
   ]
  },
  {
   "cell_type": "code",
   "execution_count": 21,
   "metadata": {},
   "outputs": [],
   "source": [
    "def get_colnames(pipeline):\n",
    "    num_pipeline = pipeline.get_params()['transformer_list'][0][1]\n",
    "    numparams = num_pipeline.get_params()['selector__attribute_names']\n",
    "\n",
    "    cat_pipeline = pipeline.get_params()['transformer_list'][1][1]\n",
    "    catfields = cat_pipeline.get_params()['selector__attribute_names']\n",
    "    catvals = cat_pipeline.get_params()['cat_encoder__categories']\n",
    "    catparams = [x + '=' + y for (x, ys) in zip(catfields, catvals) for y in ys]\n",
    "\n",
    "    return numparams + catparams"
   ]
  },
  {
   "cell_type": "code",
   "execution_count": 22,
   "metadata": {},
   "outputs": [
    {
     "data": {
      "text/plain": [
       "['exp_yr_num',\n",
       " 'tickets',\n",
       " 'lease_purchase',\n",
       " 'drivers_license_class_a',\n",
       " 'hazmat',\n",
       " 'tanker',\n",
       " 'doublestriples',\n",
       " 'job_alerts',\n",
       " 'sms_alerts_opt_in',\n",
       " 'came_from_suggested_job',\n",
       " 'run_single',\n",
       " 'run_team',\n",
       " 'flatbed',\n",
       " 'van',\n",
       " 'reefer',\n",
       " 'multi',\n",
       " 'oversized',\n",
       " 'stepdeck',\n",
       " 'heavy_haul',\n",
       " 'haul_tanker',\n",
       " 'driver_type=',\n",
       " 'driver_type=company_driver',\n",
       " 'driver_type=lease_purchase',\n",
       " 'driver_type=owner_operator',\n",
       " 'driver_type=student',\n",
       " 'climate_region=',\n",
       " 'climate_region=AK',\n",
       " 'climate_region=C',\n",
       " 'climate_region=ENC',\n",
       " 'climate_region=HI',\n",
       " 'climate_region=NE',\n",
       " 'climate_region=NW',\n",
       " 'climate_region=S',\n",
       " 'climate_region=SE',\n",
       " 'climate_region=SW',\n",
       " 'climate_region=W',\n",
       " 'climate_region=WNC']"
      ]
     },
     "execution_count": 22,
     "metadata": {},
     "output_type": "execute_result"
    }
   ],
   "source": [
    "colnames = get_colnames(pipeline)\n",
    "colnames"
   ]
  },
  {
   "cell_type": "code",
   "execution_count": 23,
   "metadata": {},
   "outputs": [],
   "source": [
    "def feature_coefficients_df(model):\n",
    "    coefs = model.coef_.ravel()\n",
    "    df = (pd.DataFrame({'field': colnames,\n",
    "                      'coef': coefs,\n",
    "                      'abs_coef': np.abs(coefs),\n",
    "                      'nonzero_rows': col_nonzero_fractions}))\n",
    "    df['importance'] = df['abs_coef'] * df['nonzero_rows']\n",
    "    df.index.name = 'col_num'\n",
    "    return df.sort_values(['abs_coef'], ascending=False)\n",
    "    return df"
   ]
  },
  {
   "cell_type": "code",
   "execution_count": 24,
   "metadata": {},
   "outputs": [
    {
     "data": {
      "text/plain": [
       "array([0.71905767, 1.64125201])"
      ]
     },
     "execution_count": 24,
     "metadata": {},
     "output_type": "execute_result"
    }
   ],
   "source": [
    "balanced_class_weight = compute_class_weight('balanced', [0,1], y_train)\n",
    "balanced_class_weight"
   ]
  },
  {
   "cell_type": "markdown",
   "metadata": {},
   "source": [
    "## L2 penalty"
   ]
  },
  {
   "cell_type": "code",
   "execution_count": 25,
   "metadata": {},
   "outputs": [],
   "source": [
    "model_l2 = LogisticRegressionCV(scoring='roc_auc', class_weight='balanced', cv=5, max_iter=1000)"
   ]
  },
  {
   "cell_type": "code",
   "execution_count": 26,
   "metadata": {},
   "outputs": [
    {
     "name": "stdout",
     "output_type": "stream",
     "text": [
      "CPU times: user 10.3 s, sys: 9.89 s, total: 20.2 s\n",
      "Wall time: 2.68 s\n"
     ]
    },
    {
     "data": {
      "text/plain": [
       "LogisticRegressionCV(Cs=10, class_weight='balanced', cv=5, dual=False,\n",
       "                     fit_intercept=True, intercept_scaling=1.0, l1_ratios=None,\n",
       "                     max_iter=1000, multi_class='warn', n_jobs=None,\n",
       "                     penalty='l2', random_state=None, refit=True,\n",
       "                     scoring='roc_auc', solver='lbfgs', tol=0.0001, verbose=0)"
      ]
     },
     "execution_count": 26,
     "metadata": {},
     "output_type": "execute_result"
    }
   ],
   "source": [
    "%time model_l2.fit(X_train, y_train)"
   ]
  },
  {
   "cell_type": "code",
   "execution_count": 27,
   "metadata": {},
   "outputs": [
    {
     "data": {
      "text/plain": [
       "array([0.35938137])"
      ]
     },
     "execution_count": 27,
     "metadata": {},
     "output_type": "execute_result"
    }
   ],
   "source": [
    "model_l2.C_"
   ]
  },
  {
   "cell_type": "code",
   "execution_count": 28,
   "metadata": {},
   "outputs": [],
   "source": [
    "y_score_l2 = model_l2.predict_proba(X_test)[:, 1]"
   ]
  },
  {
   "cell_type": "code",
   "execution_count": 29,
   "metadata": {},
   "outputs": [
    {
     "data": {
      "text/plain": [
       "0.8214324353564861"
      ]
     },
     "execution_count": 29,
     "metadata": {},
     "output_type": "execute_result"
    }
   ],
   "source": [
    "roc_auc_score(y_test, y_score_l2)"
   ]
  },
  {
   "cell_type": "code",
   "execution_count": 30,
   "metadata": {},
   "outputs": [
    {
     "data": {
      "text/plain": [
       "0.6695806908247826"
      ]
     },
     "execution_count": 30,
     "metadata": {},
     "output_type": "execute_result"
    }
   ],
   "source": [
    "average_precision_score(y_test, y_score_l2)"
   ]
  },
  {
   "cell_type": "code",
   "execution_count": 31,
   "metadata": {},
   "outputs": [
    {
     "data": {
      "text/plain": [
       "0.751219512195122"
      ]
     },
     "execution_count": 31,
     "metadata": {},
     "output_type": "execute_result"
    }
   ],
   "source": [
    "precision_at_score_percentile(y_test, y_score_l2, 80)"
   ]
  },
  {
   "cell_type": "code",
   "execution_count": 32,
   "metadata": {},
   "outputs": [
    {
     "data": {
      "text/plain": [
       "0.7572815533980582"
      ]
     },
     "execution_count": 32,
     "metadata": {},
     "output_type": "execute_result"
    }
   ],
   "source": [
    "precision_at_score_percentile(y_test, y_score_l2, 90)"
   ]
  },
  {
   "cell_type": "code",
   "execution_count": 33,
   "metadata": {},
   "outputs": [
    {
     "data": {
      "text/plain": [
       "0.8181818181818182"
      ]
     },
     "execution_count": 33,
     "metadata": {},
     "output_type": "execute_result"
    }
   ],
   "source": [
    "precision_at_score_percentile(y_test, y_score_l2, 99)"
   ]
  },
  {
   "cell_type": "code",
   "execution_count": 34,
   "metadata": {},
   "outputs": [
    {
     "data": {
      "image/png": "[encoded data removed]",
      "text/plain": [
       "<Figure size 432x288 with 1 Axes>"
      ]
     },
     "metadata": {},
     "output_type": "display_data"
    }
   ],
   "source": [
    "plot_roc(y_test, y_score_l2)"
   ]
  },
  {
   "cell_type": "code",
   "execution_count": 35,
   "metadata": {},
   "outputs": [
    {
     "data": {
      "image/png": "[encoded data removed]",
      "text/plain": [
       "<Figure size 432x288 with 1 Axes>"
      ]
     },
     "metadata": {},
     "output_type": "display_data"
    }
   ],
   "source": [
    "plot_precision_recall(y_test, y_score_l2)"
   ]
  },
  {
   "cell_type": "code",
   "execution_count": 36,
   "metadata": {},
   "outputs": [
    {
     "data": {
      "image/png": "[encoded data removed]",
      "text/plain": [
       "<Figure size 1728x576 with 1 Axes>"
      ]
     },
     "metadata": {},
     "output_type": "display_data"
    }
   ],
   "source": [
    "plt.figure(figsize=(24,8))\n",
    "plot_bucket_counts(y_test, y_score_l2, 10)"
   ]
  },
  {
   "cell_type": "code",
   "execution_count": 51,
   "metadata": {},
   "outputs": [
    {
     "data": {
      "text/html": [
       "<div>\n",
       "<style scoped>\n",
       "    .dataframe tbody tr th:only-of-type {\n",
       "        vertical-align: middle;\n",
       "    }\n",
       "\n",
       "    .dataframe tbody tr th {\n",
       "        vertical-align: top;\n",
       "    }\n",
       "\n",
       "    .dataframe thead th {\n",
       "        text-align: right;\n",
       "    }\n",
       "</style>\n",
       "<table border=\"1\" class=\"dataframe\">\n",
       "  <thead>\n",
       "    <tr style=\"text-align: right;\">\n",
       "      <th></th>\n",
       "      <th>field</th>\n",
       "      <th>coef</th>\n",
       "      <th>abs_coef</th>\n",
       "      <th>nonzero_rows</th>\n",
       "      <th>importance</th>\n",
       "    </tr>\n",
       "    <tr>\n",
       "      <th>col_num</th>\n",
       "      <th></th>\n",
       "      <th></th>\n",
       "      <th></th>\n",
       "      <th></th>\n",
       "      <th></th>\n",
       "    </tr>\n",
       "  </thead>\n",
       "  <tbody>\n",
       "    <tr>\n",
       "      <td>10</td>\n",
       "      <td>run_single</td>\n",
       "      <td>-1.047155</td>\n",
       "      <td>1.047155</td>\n",
       "      <td>0.719071</td>\n",
       "      <td>0.752978</td>\n",
       "    </tr>\n",
       "    <tr>\n",
       "      <td>11</td>\n",
       "      <td>run_team</td>\n",
       "      <td>-0.951765</td>\n",
       "      <td>0.951765</td>\n",
       "      <td>0.111980</td>\n",
       "      <td>0.106579</td>\n",
       "    </tr>\n",
       "    <tr>\n",
       "      <td>33</td>\n",
       "      <td>climate_region=SE</td>\n",
       "      <td>0.719201</td>\n",
       "      <td>0.719201</td>\n",
       "      <td>0.214670</td>\n",
       "      <td>0.154391</td>\n",
       "    </tr>\n",
       "    <tr>\n",
       "      <td>34</td>\n",
       "      <td>climate_region=SW</td>\n",
       "      <td>-0.508671</td>\n",
       "      <td>0.508671</td>\n",
       "      <td>0.042298</td>\n",
       "      <td>0.021516</td>\n",
       "    </tr>\n",
       "    <tr>\n",
       "      <td>35</td>\n",
       "      <td>climate_region=W</td>\n",
       "      <td>0.417537</td>\n",
       "      <td>0.417537</td>\n",
       "      <td>0.066504</td>\n",
       "      <td>0.027768</td>\n",
       "    </tr>\n",
       "    <tr>\n",
       "      <td>24</td>\n",
       "      <td>driver_type=student</td>\n",
       "      <td>0.389432</td>\n",
       "      <td>0.389432</td>\n",
       "      <td>0.095355</td>\n",
       "      <td>0.037134</td>\n",
       "    </tr>\n",
       "    <tr>\n",
       "      <td>3</td>\n",
       "      <td>drivers_license_class_a</td>\n",
       "      <td>0.360592</td>\n",
       "      <td>0.360592</td>\n",
       "      <td>0.960636</td>\n",
       "      <td>0.346398</td>\n",
       "    </tr>\n",
       "    <tr>\n",
       "      <td>28</td>\n",
       "      <td>climate_region=ENC</td>\n",
       "      <td>-0.324079</td>\n",
       "      <td>0.324079</td>\n",
       "      <td>0.063814</td>\n",
       "      <td>0.020681</td>\n",
       "    </tr>\n",
       "    <tr>\n",
       "      <td>29</td>\n",
       "      <td>climate_region=HI</td>\n",
       "      <td>0.286766</td>\n",
       "      <td>0.286766</td>\n",
       "      <td>0.000244</td>\n",
       "      <td>0.000070</td>\n",
       "    </tr>\n",
       "    <tr>\n",
       "      <td>36</td>\n",
       "      <td>climate_region=WNC</td>\n",
       "      <td>-0.276954</td>\n",
       "      <td>0.276954</td>\n",
       "      <td>0.021760</td>\n",
       "      <td>0.006027</td>\n",
       "    </tr>\n",
       "    <tr>\n",
       "      <td>9</td>\n",
       "      <td>came_from_suggested_job</td>\n",
       "      <td>-0.262603</td>\n",
       "      <td>0.262603</td>\n",
       "      <td>0.703423</td>\n",
       "      <td>0.184721</td>\n",
       "    </tr>\n",
       "    <tr>\n",
       "      <td>21</td>\n",
       "      <td>driver_type=company_driver</td>\n",
       "      <td>-0.228211</td>\n",
       "      <td>0.228211</td>\n",
       "      <td>0.844010</td>\n",
       "      <td>0.192613</td>\n",
       "    </tr>\n",
       "    <tr>\n",
       "      <td>32</td>\n",
       "      <td>climate_region=S</td>\n",
       "      <td>-0.199036</td>\n",
       "      <td>0.199036</td>\n",
       "      <td>0.300489</td>\n",
       "      <td>0.059808</td>\n",
       "    </tr>\n",
       "    <tr>\n",
       "      <td>31</td>\n",
       "      <td>climate_region=NW</td>\n",
       "      <td>0.195664</td>\n",
       "      <td>0.195664</td>\n",
       "      <td>0.023472</td>\n",
       "      <td>0.004593</td>\n",
       "    </tr>\n",
       "    <tr>\n",
       "      <td>19</td>\n",
       "      <td>haul_tanker</td>\n",
       "      <td>-0.161342</td>\n",
       "      <td>0.161342</td>\n",
       "      <td>0.173105</td>\n",
       "      <td>0.027929</td>\n",
       "    </tr>\n",
       "    <tr>\n",
       "      <td>20</td>\n",
       "      <td>driver_type=</td>\n",
       "      <td>-0.141516</td>\n",
       "      <td>0.141516</td>\n",
       "      <td>0.003178</td>\n",
       "      <td>0.000450</td>\n",
       "    </tr>\n",
       "    <tr>\n",
       "      <td>1</td>\n",
       "      <td>tickets</td>\n",
       "      <td>-0.133355</td>\n",
       "      <td>0.133355</td>\n",
       "      <td>0.261125</td>\n",
       "      <td>0.034822</td>\n",
       "    </tr>\n",
       "    <tr>\n",
       "      <td>13</td>\n",
       "      <td>van</td>\n",
       "      <td>0.125109</td>\n",
       "      <td>0.125109</td>\n",
       "      <td>0.430807</td>\n",
       "      <td>0.053898</td>\n",
       "    </tr>\n",
       "    <tr>\n",
       "      <td>30</td>\n",
       "      <td>climate_region=NE</td>\n",
       "      <td>-0.116641</td>\n",
       "      <td>0.116641</td>\n",
       "      <td>0.080929</td>\n",
       "      <td>0.009440</td>\n",
       "    </tr>\n",
       "    <tr>\n",
       "      <td>12</td>\n",
       "      <td>flatbed</td>\n",
       "      <td>-0.104097</td>\n",
       "      <td>0.104097</td>\n",
       "      <td>0.242543</td>\n",
       "      <td>0.025248</td>\n",
       "    </tr>\n",
       "    <tr>\n",
       "      <td>26</td>\n",
       "      <td>climate_region=AK</td>\n",
       "      <td>-0.092620</td>\n",
       "      <td>0.092620</td>\n",
       "      <td>0.000244</td>\n",
       "      <td>0.000023</td>\n",
       "    </tr>\n",
       "    <tr>\n",
       "      <td>23</td>\n",
       "      <td>driver_type=owner_operator</td>\n",
       "      <td>-0.078614</td>\n",
       "      <td>0.078614</td>\n",
       "      <td>0.057213</td>\n",
       "      <td>0.004498</td>\n",
       "    </tr>\n",
       "    <tr>\n",
       "      <td>22</td>\n",
       "      <td>driver_type=lease_purchase</td>\n",
       "      <td>0.059927</td>\n",
       "      <td>0.059927</td>\n",
       "      <td>0.000244</td>\n",
       "      <td>0.000015</td>\n",
       "    </tr>\n",
       "    <tr>\n",
       "      <td>7</td>\n",
       "      <td>job_alerts</td>\n",
       "      <td>0.058835</td>\n",
       "      <td>0.058835</td>\n",
       "      <td>0.734474</td>\n",
       "      <td>0.043213</td>\n",
       "    </tr>\n",
       "    <tr>\n",
       "      <td>14</td>\n",
       "      <td>reefer</td>\n",
       "      <td>0.057756</td>\n",
       "      <td>0.057756</td>\n",
       "      <td>0.294866</td>\n",
       "      <td>0.017030</td>\n",
       "    </tr>\n",
       "    <tr>\n",
       "      <td>5</td>\n",
       "      <td>tanker</td>\n",
       "      <td>0.056234</td>\n",
       "      <td>0.056234</td>\n",
       "      <td>0.323716</td>\n",
       "      <td>0.018204</td>\n",
       "    </tr>\n",
       "    <tr>\n",
       "      <td>0</td>\n",
       "      <td>exp_yr_num</td>\n",
       "      <td>-0.051636</td>\n",
       "      <td>0.051636</td>\n",
       "      <td>0.418337</td>\n",
       "      <td>0.021601</td>\n",
       "    </tr>\n",
       "    <tr>\n",
       "      <td>25</td>\n",
       "      <td>climate_region=</td>\n",
       "      <td>-0.050938</td>\n",
       "      <td>0.050938</td>\n",
       "      <td>0.001711</td>\n",
       "      <td>0.000087</td>\n",
       "    </tr>\n",
       "    <tr>\n",
       "      <td>27</td>\n",
       "      <td>climate_region=C</td>\n",
       "      <td>-0.049211</td>\n",
       "      <td>0.049211</td>\n",
       "      <td>0.183863</td>\n",
       "      <td>0.009048</td>\n",
       "    </tr>\n",
       "    <tr>\n",
       "      <td>16</td>\n",
       "      <td>oversized</td>\n",
       "      <td>-0.043807</td>\n",
       "      <td>0.043807</td>\n",
       "      <td>0.081663</td>\n",
       "      <td>0.003577</td>\n",
       "    </tr>\n",
       "    <tr>\n",
       "      <td>17</td>\n",
       "      <td>stepdeck</td>\n",
       "      <td>0.042089</td>\n",
       "      <td>0.042089</td>\n",
       "      <td>0.083863</td>\n",
       "      <td>0.003530</td>\n",
       "    </tr>\n",
       "    <tr>\n",
       "      <td>8</td>\n",
       "      <td>sms_alerts_opt_in</td>\n",
       "      <td>-0.041903</td>\n",
       "      <td>0.041903</td>\n",
       "      <td>0.682396</td>\n",
       "      <td>0.028595</td>\n",
       "    </tr>\n",
       "    <tr>\n",
       "      <td>6</td>\n",
       "      <td>doublestriples</td>\n",
       "      <td>-0.023837</td>\n",
       "      <td>0.023837</td>\n",
       "      <td>0.227873</td>\n",
       "      <td>0.005432</td>\n",
       "    </tr>\n",
       "    <tr>\n",
       "      <td>4</td>\n",
       "      <td>hazmat</td>\n",
       "      <td>0.014201</td>\n",
       "      <td>0.014201</td>\n",
       "      <td>0.155746</td>\n",
       "      <td>0.002212</td>\n",
       "    </tr>\n",
       "    <tr>\n",
       "      <td>2</td>\n",
       "      <td>lease_purchase</td>\n",
       "      <td>0.012519</td>\n",
       "      <td>0.012519</td>\n",
       "      <td>0.222983</td>\n",
       "      <td>0.002792</td>\n",
       "    </tr>\n",
       "    <tr>\n",
       "      <td>18</td>\n",
       "      <td>heavy_haul</td>\n",
       "      <td>0.009944</td>\n",
       "      <td>0.009944</td>\n",
       "      <td>0.088753</td>\n",
       "      <td>0.000883</td>\n",
       "    </tr>\n",
       "    <tr>\n",
       "      <td>15</td>\n",
       "      <td>multi</td>\n",
       "      <td>-0.007507</td>\n",
       "      <td>0.007507</td>\n",
       "      <td>0.012958</td>\n",
       "      <td>0.000097</td>\n",
       "    </tr>\n",
       "  </tbody>\n",
       "</table>\n",
       "</div>"
      ],
      "text/plain": [
       "                              field      coef  abs_coef  nonzero_rows  \\\n",
       "col_num                                                                 \n",
       "10                       run_single -1.047155  1.047155      0.719071   \n",
       "11                         run_team -0.951765  0.951765      0.111980   \n",
       "33                climate_region=SE  0.719201  0.719201      0.214670   \n",
       "34                climate_region=SW -0.508671  0.508671      0.042298   \n",
       "35                 climate_region=W  0.417537  0.417537      0.066504   \n",
       "24              driver_type=student  0.389432  0.389432      0.095355   \n",
       "3           drivers_license_class_a  0.360592  0.360592      0.960636   \n",
       "28               climate_region=ENC -0.324079  0.324079      0.063814   \n",
       "29                climate_region=HI  0.286766  0.286766      0.000244   \n",
       "36               climate_region=WNC -0.276954  0.276954      0.021760   \n",
       "9           came_from_suggested_job -0.262603  0.262603      0.703423   \n",
       "21       driver_type=company_driver -0.228211  0.228211      0.844010   \n",
       "32                 climate_region=S -0.199036  0.199036      0.300489   \n",
       "31                climate_region=NW  0.195664  0.195664      0.023472   \n",
       "19                      haul_tanker -0.161342  0.161342      0.173105   \n",
       "20                     driver_type= -0.141516  0.141516      0.003178   \n",
       "1                           tickets -0.133355  0.133355      0.261125   \n",
       "13                              van  0.125109  0.125109      0.430807   \n",
       "30                climate_region=NE -0.116641  0.116641      0.080929   \n",
       "12                          flatbed -0.104097  0.104097      0.242543   \n",
       "26                climate_region=AK -0.092620  0.092620      0.000244   \n",
       "23       driver_type=owner_operator -0.078614  0.078614      0.057213   \n",
       "22       driver_type=lease_purchase  0.059927  0.059927      0.000244   \n",
       "7                        job_alerts  0.058835  0.058835      0.734474   \n",
       "14                           reefer  0.057756  0.057756      0.294866   \n",
       "5                            tanker  0.056234  0.056234      0.323716   \n",
       "0                        exp_yr_num -0.051636  0.051636      0.418337   \n",
       "25                  climate_region= -0.050938  0.050938      0.001711   \n",
       "27                 climate_region=C -0.049211  0.049211      0.183863   \n",
       "16                        oversized -0.043807  0.043807      0.081663   \n",
       "17                         stepdeck  0.042089  0.042089      0.083863   \n",
       "8                 sms_alerts_opt_in -0.041903  0.041903      0.682396   \n",
       "6                    doublestriples -0.023837  0.023837      0.227873   \n",
       "4                            hazmat  0.014201  0.014201      0.155746   \n",
       "2                    lease_purchase  0.012519  0.012519      0.222983   \n",
       "18                       heavy_haul  0.009944  0.009944      0.088753   \n",
       "15                            multi -0.007507  0.007507      0.012958   \n",
       "\n",
       "         importance  \n",
       "col_num              \n",
       "10         0.752978  \n",
       "11         0.106579  \n",
       "33         0.154391  \n",
       "34         0.021516  \n",
       "35         0.027768  \n",
       "24         0.037134  \n",
       "3          0.346398  \n",
       "28         0.020681  \n",
       "29         0.000070  \n",
       "36         0.006027  \n",
       "9          0.184721  \n",
       "21         0.192613  \n",
       "32         0.059808  \n",
       "31         0.004593  \n",
       "19         0.027929  \n",
       "20         0.000450  \n",
       "1          0.034822  \n",
       "13         0.053898  \n",
       "30         0.009440  \n",
       "12         0.025248  \n",
       "26         0.000023  \n",
       "23         0.004498  \n",
       "22         0.000015  \n",
       "7          0.043213  \n",
       "14         0.017030  \n",
       "5          0.018204  \n",
       "0          0.021601  \n",
       "25         0.000087  \n",
       "27         0.009048  \n",
       "16         0.003577  \n",
       "17         0.003530  \n",
       "8          0.028595  \n",
       "6          0.005432  \n",
       "4          0.002212  \n",
       "2          0.002792  \n",
       "18         0.000883  \n",
       "15         0.000097  "
      ]
     },
     "execution_count": 51,
     "metadata": {},
     "output_type": "execute_result"
    }
   ],
   "source": [
    "feature_coefficients_df(model_l2).sort_values('abs_coef', ascending=False)"
   ]
  },
  {
   "cell_type": "markdown",
   "metadata": {},
   "source": [
    "## L1 penalty\n",
    "Use L1 penalty to flag most important features for model."
   ]
  },
  {
   "cell_type": "code",
   "execution_count": 38,
   "metadata": {},
   "outputs": [],
   "source": [
    "model_l1 = LogisticRegression(class_weight='balanced', penalty='l1', C=0.05)"
   ]
  },
  {
   "cell_type": "code",
   "execution_count": 39,
   "metadata": {},
   "outputs": [
    {
     "name": "stdout",
     "output_type": "stream",
     "text": [
      "CPU times: user 12.5 ms, sys: 412 µs, total: 12.9 ms\n",
      "Wall time: 12.4 ms\n"
     ]
    },
    {
     "name": "stderr",
     "output_type": "stream",
     "text": [
      "/home/wleftwich/anaconda3/envs/tfgpu/lib/python3.6/site-packages/sklearn/linear_model/logistic.py:432: FutureWarning: Default solver will be changed to 'lbfgs' in 0.22. Specify a solver to silence this warning.\n",
      "  FutureWarning)\n"
     ]
    },
    {
     "data": {
      "text/plain": [
       "LogisticRegression(C=0.05, class_weight='balanced', dual=False,\n",
       "                   fit_intercept=True, intercept_scaling=1, l1_ratio=None,\n",
       "                   max_iter=100, multi_class='warn', n_jobs=None, penalty='l1',\n",
       "                   random_state=None, solver='warn', tol=0.0001, verbose=0,\n",
       "                   warm_start=False)"
      ]
     },
     "execution_count": 39,
     "metadata": {},
     "output_type": "execute_result"
    }
   ],
   "source": [
    "%time model_l1.fit(X_train, y_train)"
   ]
  },
  {
   "cell_type": "code",
   "execution_count": 40,
   "metadata": {},
   "outputs": [],
   "source": [
    "y_score_l1 = model_l1.predict_proba(X_test)[:, 1]"
   ]
  },
  {
   "cell_type": "code",
   "execution_count": 41,
   "metadata": {},
   "outputs": [
    {
     "data": {
      "text/plain": [
       "0.819507555267049"
      ]
     },
     "execution_count": 41,
     "metadata": {},
     "output_type": "execute_result"
    }
   ],
   "source": [
    "roc_auc_score(y_test, y_score_l1)"
   ]
  },
  {
   "cell_type": "code",
   "execution_count": 42,
   "metadata": {},
   "outputs": [
    {
     "data": {
      "text/plain": [
       "0.6642271707916355"
      ]
     },
     "execution_count": 42,
     "metadata": {},
     "output_type": "execute_result"
    }
   ],
   "source": [
    "average_precision_score(y_test, y_score_l1)"
   ]
  },
  {
   "cell_type": "code",
   "execution_count": 43,
   "metadata": {},
   "outputs": [
    {
     "data": {
      "text/plain": [
       "0.7560975609756098"
      ]
     },
     "execution_count": 43,
     "metadata": {},
     "output_type": "execute_result"
    }
   ],
   "source": [
    "precision_at_score_percentile(y_test, y_score_l1, 80)"
   ]
  },
  {
   "cell_type": "code",
   "execution_count": 44,
   "metadata": {},
   "outputs": [
    {
     "data": {
      "text/plain": [
       "0.7864077669902912"
      ]
     },
     "execution_count": 44,
     "metadata": {},
     "output_type": "execute_result"
    }
   ],
   "source": [
    "precision_at_score_percentile(y_test, y_score_l1, 90)"
   ]
  },
  {
   "cell_type": "code",
   "execution_count": 45,
   "metadata": {},
   "outputs": [
    {
     "data": {
      "text/plain": [
       "0.8181818181818182"
      ]
     },
     "execution_count": 45,
     "metadata": {},
     "output_type": "execute_result"
    }
   ],
   "source": [
    "precision_at_score_percentile(y_test, y_score_l1, 99)"
   ]
  },
  {
   "cell_type": "code",
   "execution_count": 46,
   "metadata": {},
   "outputs": [
    {
     "data": {
      "image/png": "[encoded data removed]",
      "text/plain": [
       "<Figure size 432x288 with 1 Axes>"
      ]
     },
     "metadata": {},
     "output_type": "display_data"
    }
   ],
   "source": [
    "plot_roc(y_test, y_score_l1)"
   ]
  },
  {
   "cell_type": "code",
   "execution_count": 47,
   "metadata": {},
   "outputs": [
    {
     "data": {
      "image/png": "[encoded data removed]",
      "text/plain": [
       "<Figure size 432x288 with 1 Axes>"
      ]
     },
     "metadata": {},
     "output_type": "display_data"
    }
   ],
   "source": [
    "plot_precision_recall(y_test, y_score_l1)"
   ]
  },
  {
   "cell_type": "code",
   "execution_count": 48,
   "metadata": {},
   "outputs": [
    {
     "data": {
      "image/png": "[encoded data removed]",
      "text/plain": [
       "<Figure size 1728x576 with 1 Axes>"
      ]
     },
     "metadata": {},
     "output_type": "display_data"
    }
   ],
   "source": [
    "plt.figure(figsize=(24,8))\n",
    "plot_bucket_counts(y_test, y_score_l1, 10)"
   ]
  },
  {
   "cell_type": "code",
   "execution_count": 49,
   "metadata": {},
   "outputs": [
    {
     "data": {
      "text/html": [
       "<div>\n",
       "<style scoped>\n",
       "    .dataframe tbody tr th:only-of-type {\n",
       "        vertical-align: middle;\n",
       "    }\n",
       "\n",
       "    .dataframe tbody tr th {\n",
       "        vertical-align: top;\n",
       "    }\n",
       "\n",
       "    .dataframe thead th {\n",
       "        text-align: right;\n",
       "    }\n",
       "</style>\n",
       "<table border=\"1\" class=\"dataframe\">\n",
       "  <thead>\n",
       "    <tr style=\"text-align: right;\">\n",
       "      <th></th>\n",
       "      <th>field</th>\n",
       "      <th>coef</th>\n",
       "      <th>abs_coef</th>\n",
       "      <th>nonzero_rows</th>\n",
       "      <th>importance</th>\n",
       "    </tr>\n",
       "    <tr>\n",
       "      <th>col_num</th>\n",
       "      <th></th>\n",
       "      <th></th>\n",
       "      <th></th>\n",
       "      <th></th>\n",
       "      <th></th>\n",
       "    </tr>\n",
       "  </thead>\n",
       "  <tbody>\n",
       "    <tr>\n",
       "      <td>10</td>\n",
       "      <td>run_single</td>\n",
       "      <td>-0.970393</td>\n",
       "      <td>0.970393</td>\n",
       "      <td>0.719071</td>\n",
       "      <td>0.697781</td>\n",
       "    </tr>\n",
       "    <tr>\n",
       "      <td>11</td>\n",
       "      <td>run_team</td>\n",
       "      <td>-0.870769</td>\n",
       "      <td>0.870769</td>\n",
       "      <td>0.111980</td>\n",
       "      <td>0.097509</td>\n",
       "    </tr>\n",
       "    <tr>\n",
       "      <td>33</td>\n",
       "      <td>climate_region=SE</td>\n",
       "      <td>0.655564</td>\n",
       "      <td>0.655564</td>\n",
       "      <td>0.214670</td>\n",
       "      <td>0.140730</td>\n",
       "    </tr>\n",
       "    <tr>\n",
       "      <td>21</td>\n",
       "      <td>driver_type=company_driver</td>\n",
       "      <td>-0.287390</td>\n",
       "      <td>0.287390</td>\n",
       "      <td>0.844010</td>\n",
       "      <td>0.242560</td>\n",
       "    </tr>\n",
       "    <tr>\n",
       "      <td>3</td>\n",
       "      <td>drivers_license_class_a</td>\n",
       "      <td>0.268693</td>\n",
       "      <td>0.268693</td>\n",
       "      <td>0.960636</td>\n",
       "      <td>0.258116</td>\n",
       "    </tr>\n",
       "    <tr>\n",
       "      <td>9</td>\n",
       "      <td>came_from_suggested_job</td>\n",
       "      <td>-0.248491</td>\n",
       "      <td>0.248491</td>\n",
       "      <td>0.703423</td>\n",
       "      <td>0.174794</td>\n",
       "    </tr>\n",
       "    <tr>\n",
       "      <td>19</td>\n",
       "      <td>haul_tanker</td>\n",
       "      <td>-0.120995</td>\n",
       "      <td>0.120995</td>\n",
       "      <td>0.173105</td>\n",
       "      <td>0.020945</td>\n",
       "    </tr>\n",
       "    <tr>\n",
       "      <td>35</td>\n",
       "      <td>climate_region=W</td>\n",
       "      <td>0.114253</td>\n",
       "      <td>0.114253</td>\n",
       "      <td>0.066504</td>\n",
       "      <td>0.007598</td>\n",
       "    </tr>\n",
       "    <tr>\n",
       "      <td>1</td>\n",
       "      <td>tickets</td>\n",
       "      <td>-0.092508</td>\n",
       "      <td>0.092508</td>\n",
       "      <td>0.261125</td>\n",
       "      <td>0.024156</td>\n",
       "    </tr>\n",
       "    <tr>\n",
       "      <td>13</td>\n",
       "      <td>van</td>\n",
       "      <td>0.084978</td>\n",
       "      <td>0.084978</td>\n",
       "      <td>0.430807</td>\n",
       "      <td>0.036609</td>\n",
       "    </tr>\n",
       "    <tr>\n",
       "      <td>32</td>\n",
       "      <td>climate_region=S</td>\n",
       "      <td>-0.079616</td>\n",
       "      <td>0.079616</td>\n",
       "      <td>0.300489</td>\n",
       "      <td>0.023924</td>\n",
       "    </tr>\n",
       "    <tr>\n",
       "      <td>12</td>\n",
       "      <td>flatbed</td>\n",
       "      <td>-0.066531</td>\n",
       "      <td>0.066531</td>\n",
       "      <td>0.242543</td>\n",
       "      <td>0.016137</td>\n",
       "    </tr>\n",
       "    <tr>\n",
       "      <td>0</td>\n",
       "      <td>exp_yr_num</td>\n",
       "      <td>-0.040702</td>\n",
       "      <td>0.040702</td>\n",
       "      <td>0.418337</td>\n",
       "      <td>0.017027</td>\n",
       "    </tr>\n",
       "    <tr>\n",
       "      <td>14</td>\n",
       "      <td>reefer</td>\n",
       "      <td>0.031440</td>\n",
       "      <td>0.031440</td>\n",
       "      <td>0.294866</td>\n",
       "      <td>0.009271</td>\n",
       "    </tr>\n",
       "    <tr>\n",
       "      <td>8</td>\n",
       "      <td>sms_alerts_opt_in</td>\n",
       "      <td>-0.026999</td>\n",
       "      <td>0.026999</td>\n",
       "      <td>0.682396</td>\n",
       "      <td>0.018424</td>\n",
       "    </tr>\n",
       "    <tr>\n",
       "      <td>5</td>\n",
       "      <td>tanker</td>\n",
       "      <td>0.012667</td>\n",
       "      <td>0.012667</td>\n",
       "      <td>0.323716</td>\n",
       "      <td>0.004101</td>\n",
       "    </tr>\n",
       "    <tr>\n",
       "      <td>16</td>\n",
       "      <td>oversized</td>\n",
       "      <td>-0.006796</td>\n",
       "      <td>0.006796</td>\n",
       "      <td>0.081663</td>\n",
       "      <td>0.000555</td>\n",
       "    </tr>\n",
       "    <tr>\n",
       "      <td>7</td>\n",
       "      <td>job_alerts</td>\n",
       "      <td>0.004269</td>\n",
       "      <td>0.004269</td>\n",
       "      <td>0.734474</td>\n",
       "      <td>0.003135</td>\n",
       "    </tr>\n",
       "    <tr>\n",
       "      <td>24</td>\n",
       "      <td>driver_type=student</td>\n",
       "      <td>0.000000</td>\n",
       "      <td>0.000000</td>\n",
       "      <td>0.095355</td>\n",
       "      <td>0.000000</td>\n",
       "    </tr>\n",
       "    <tr>\n",
       "      <td>2</td>\n",
       "      <td>lease_purchase</td>\n",
       "      <td>0.000000</td>\n",
       "      <td>0.000000</td>\n",
       "      <td>0.222983</td>\n",
       "      <td>0.000000</td>\n",
       "    </tr>\n",
       "    <tr>\n",
       "      <td>4</td>\n",
       "      <td>hazmat</td>\n",
       "      <td>0.000000</td>\n",
       "      <td>0.000000</td>\n",
       "      <td>0.155746</td>\n",
       "      <td>0.000000</td>\n",
       "    </tr>\n",
       "    <tr>\n",
       "      <td>6</td>\n",
       "      <td>doublestriples</td>\n",
       "      <td>0.000000</td>\n",
       "      <td>0.000000</td>\n",
       "      <td>0.227873</td>\n",
       "      <td>0.000000</td>\n",
       "    </tr>\n",
       "    <tr>\n",
       "      <td>15</td>\n",
       "      <td>multi</td>\n",
       "      <td>0.000000</td>\n",
       "      <td>0.000000</td>\n",
       "      <td>0.012958</td>\n",
       "      <td>0.000000</td>\n",
       "    </tr>\n",
       "    <tr>\n",
       "      <td>17</td>\n",
       "      <td>stepdeck</td>\n",
       "      <td>0.000000</td>\n",
       "      <td>0.000000</td>\n",
       "      <td>0.083863</td>\n",
       "      <td>0.000000</td>\n",
       "    </tr>\n",
       "    <tr>\n",
       "      <td>20</td>\n",
       "      <td>driver_type=</td>\n",
       "      <td>0.000000</td>\n",
       "      <td>0.000000</td>\n",
       "      <td>0.003178</td>\n",
       "      <td>0.000000</td>\n",
       "    </tr>\n",
       "    <tr>\n",
       "      <td>22</td>\n",
       "      <td>driver_type=lease_purchase</td>\n",
       "      <td>0.000000</td>\n",
       "      <td>0.000000</td>\n",
       "      <td>0.000244</td>\n",
       "      <td>0.000000</td>\n",
       "    </tr>\n",
       "    <tr>\n",
       "      <td>23</td>\n",
       "      <td>driver_type=owner_operator</td>\n",
       "      <td>0.000000</td>\n",
       "      <td>0.000000</td>\n",
       "      <td>0.057213</td>\n",
       "      <td>0.000000</td>\n",
       "    </tr>\n",
       "    <tr>\n",
       "      <td>26</td>\n",
       "      <td>climate_region=AK</td>\n",
       "      <td>0.000000</td>\n",
       "      <td>0.000000</td>\n",
       "      <td>0.000244</td>\n",
       "      <td>0.000000</td>\n",
       "    </tr>\n",
       "    <tr>\n",
       "      <td>25</td>\n",
       "      <td>climate_region=</td>\n",
       "      <td>0.000000</td>\n",
       "      <td>0.000000</td>\n",
       "      <td>0.001711</td>\n",
       "      <td>0.000000</td>\n",
       "    </tr>\n",
       "    <tr>\n",
       "      <td>18</td>\n",
       "      <td>heavy_haul</td>\n",
       "      <td>0.000000</td>\n",
       "      <td>0.000000</td>\n",
       "      <td>0.088753</td>\n",
       "      <td>0.000000</td>\n",
       "    </tr>\n",
       "    <tr>\n",
       "      <td>27</td>\n",
       "      <td>climate_region=C</td>\n",
       "      <td>0.000000</td>\n",
       "      <td>0.000000</td>\n",
       "      <td>0.183863</td>\n",
       "      <td>0.000000</td>\n",
       "    </tr>\n",
       "    <tr>\n",
       "      <td>28</td>\n",
       "      <td>climate_region=ENC</td>\n",
       "      <td>0.000000</td>\n",
       "      <td>0.000000</td>\n",
       "      <td>0.063814</td>\n",
       "      <td>0.000000</td>\n",
       "    </tr>\n",
       "    <tr>\n",
       "      <td>29</td>\n",
       "      <td>climate_region=HI</td>\n",
       "      <td>0.000000</td>\n",
       "      <td>0.000000</td>\n",
       "      <td>0.000244</td>\n",
       "      <td>0.000000</td>\n",
       "    </tr>\n",
       "    <tr>\n",
       "      <td>30</td>\n",
       "      <td>climate_region=NE</td>\n",
       "      <td>0.000000</td>\n",
       "      <td>0.000000</td>\n",
       "      <td>0.080929</td>\n",
       "      <td>0.000000</td>\n",
       "    </tr>\n",
       "    <tr>\n",
       "      <td>34</td>\n",
       "      <td>climate_region=SW</td>\n",
       "      <td>0.000000</td>\n",
       "      <td>0.000000</td>\n",
       "      <td>0.042298</td>\n",
       "      <td>0.000000</td>\n",
       "    </tr>\n",
       "    <tr>\n",
       "      <td>31</td>\n",
       "      <td>climate_region=NW</td>\n",
       "      <td>0.000000</td>\n",
       "      <td>0.000000</td>\n",
       "      <td>0.023472</td>\n",
       "      <td>0.000000</td>\n",
       "    </tr>\n",
       "    <tr>\n",
       "      <td>36</td>\n",
       "      <td>climate_region=WNC</td>\n",
       "      <td>0.000000</td>\n",
       "      <td>0.000000</td>\n",
       "      <td>0.021760</td>\n",
       "      <td>0.000000</td>\n",
       "    </tr>\n",
       "  </tbody>\n",
       "</table>\n",
       "</div>"
      ],
      "text/plain": [
       "                              field      coef  abs_coef  nonzero_rows  \\\n",
       "col_num                                                                 \n",
       "10                       run_single -0.970393  0.970393      0.719071   \n",
       "11                         run_team -0.870769  0.870769      0.111980   \n",
       "33                climate_region=SE  0.655564  0.655564      0.214670   \n",
       "21       driver_type=company_driver -0.287390  0.287390      0.844010   \n",
       "3           drivers_license_class_a  0.268693  0.268693      0.960636   \n",
       "9           came_from_suggested_job -0.248491  0.248491      0.703423   \n",
       "19                      haul_tanker -0.120995  0.120995      0.173105   \n",
       "35                 climate_region=W  0.114253  0.114253      0.066504   \n",
       "1                           tickets -0.092508  0.092508      0.261125   \n",
       "13                              van  0.084978  0.084978      0.430807   \n",
       "32                 climate_region=S -0.079616  0.079616      0.300489   \n",
       "12                          flatbed -0.066531  0.066531      0.242543   \n",
       "0                        exp_yr_num -0.040702  0.040702      0.418337   \n",
       "14                           reefer  0.031440  0.031440      0.294866   \n",
       "8                 sms_alerts_opt_in -0.026999  0.026999      0.682396   \n",
       "5                            tanker  0.012667  0.012667      0.323716   \n",
       "16                        oversized -0.006796  0.006796      0.081663   \n",
       "7                        job_alerts  0.004269  0.004269      0.734474   \n",
       "24              driver_type=student  0.000000  0.000000      0.095355   \n",
       "2                    lease_purchase  0.000000  0.000000      0.222983   \n",
       "4                            hazmat  0.000000  0.000000      0.155746   \n",
       "6                    doublestriples  0.000000  0.000000      0.227873   \n",
       "15                            multi  0.000000  0.000000      0.012958   \n",
       "17                         stepdeck  0.000000  0.000000      0.083863   \n",
       "20                     driver_type=  0.000000  0.000000      0.003178   \n",
       "22       driver_type=lease_purchase  0.000000  0.000000      0.000244   \n",
       "23       driver_type=owner_operator  0.000000  0.000000      0.057213   \n",
       "26                climate_region=AK  0.000000  0.000000      0.000244   \n",
       "25                  climate_region=  0.000000  0.000000      0.001711   \n",
       "18                       heavy_haul  0.000000  0.000000      0.088753   \n",
       "27                 climate_region=C  0.000000  0.000000      0.183863   \n",
       "28               climate_region=ENC  0.000000  0.000000      0.063814   \n",
       "29                climate_region=HI  0.000000  0.000000      0.000244   \n",
       "30                climate_region=NE  0.000000  0.000000      0.080929   \n",
       "34                climate_region=SW  0.000000  0.000000      0.042298   \n",
       "31                climate_region=NW  0.000000  0.000000      0.023472   \n",
       "36               climate_region=WNC  0.000000  0.000000      0.021760   \n",
       "\n",
       "         importance  \n",
       "col_num              \n",
       "10         0.697781  \n",
       "11         0.097509  \n",
       "33         0.140730  \n",
       "21         0.242560  \n",
       "3          0.258116  \n",
       "9          0.174794  \n",
       "19         0.020945  \n",
       "35         0.007598  \n",
       "1          0.024156  \n",
       "13         0.036609  \n",
       "32         0.023924  \n",
       "12         0.016137  \n",
       "0          0.017027  \n",
       "14         0.009271  \n",
       "8          0.018424  \n",
       "5          0.004101  \n",
       "16         0.000555  \n",
       "7          0.003135  \n",
       "24         0.000000  \n",
       "2          0.000000  \n",
       "4          0.000000  \n",
       "6          0.000000  \n",
       "15         0.000000  \n",
       "17         0.000000  \n",
       "20         0.000000  \n",
       "22         0.000000  \n",
       "23         0.000000  \n",
       "26         0.000000  \n",
       "25         0.000000  \n",
       "18         0.000000  \n",
       "27         0.000000  \n",
       "28         0.000000  \n",
       "29         0.000000  \n",
       "30         0.000000  \n",
       "34         0.000000  \n",
       "31         0.000000  \n",
       "36         0.000000  "
      ]
     },
     "execution_count": 49,
     "metadata": {},
     "output_type": "execute_result"
    }
   ],
   "source": [
    "coefs = feature_coefficients_df(model_l1)\n",
    "coefs.sort_values('abs_coef', ascending=False)"
   ]
  },
  {
   "cell_type": "code",
   "execution_count": 50,
   "metadata": {},
   "outputs": [],
   "source": [
    "coefs.to_excel('data/cig-lr-l1-coefs-c_pt_05.xlsx')"
   ]
  }
 ],
 "metadata": {
  "kernelspec": {
   "display_name": "Python 3",
   "language": "python",
   "name": "python3"
  },
  "language_info": {
   "codemirror_mode": {
    "name": "ipython",
    "version": 3
   },
   "file_extension": ".py",
   "mimetype": "text/x-python",
   "name": "python",
   "nbconvert_exporter": "python",
   "pygments_lexer": "ipython3",
   "version": "3.6.7"
  }
 },
 "nbformat": 4,
 "nbformat_minor": 2
}
