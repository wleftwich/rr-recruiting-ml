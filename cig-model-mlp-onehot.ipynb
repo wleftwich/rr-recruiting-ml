{
 "cells": [
  {
   "cell_type": "markdown",
   "metadata": {},
   "source": [
    "# Careers in gear\n",
    "## Predict hire / nohire from lead_details.csv\n",
    "\n",
    "### MLP model with categories encoded onehot\n"
   ]
  },
  {
   "cell_type": "code",
   "execution_count": 8,
   "metadata": {},
   "outputs": [],
   "source": [
    "import logging\n",
    "logging.basicConfig()\n",
    "logger = logging.getLogger()\n",
    "logger.setLevel('ERROR')\n",
    "\n",
    "import shutil\n",
    "import pathlib\n",
    "import pickle\n",
    "import itertools\n",
    "\n",
    "import pandas as pd\n",
    "import numpy as np\n",
    "import joblib\n",
    "\n",
    "from sklearn.model_selection import train_test_split\n",
    "from sklearn.pipeline import Pipeline, FeatureUnion\n",
    "from sklearn.preprocessing import StandardScaler, MinMaxScaler, FunctionTransformer\n",
    "\n",
    "# from sklearn.model_selection import GridSearchCV\n",
    "from sklearn.utils.class_weight import compute_class_weight\n",
    "from sklearn.metrics import (\n",
    "    roc_curve,\n",
    "    roc_auc_score,\n",
    "    precision_recall_curve,\n",
    "    precision_score,\n",
    "    recall_score,\n",
    "    average_precision_score\n",
    ")\n",
    "# from sklearn import linear_model\n",
    "\n",
    "from tensorflow.keras import models, layers\n",
    "\n",
    "# from feature_utils import CategoricalEncoder, DataFrameSelector\n",
    "\n",
    "from pp_pipeline_utils import (\n",
    "    splitx,\n",
    "    DataFrameSelector,\n",
    "    CategoricalEncoder\n",
    ")\n",
    "\n",
    "from metric_utils import (\n",
    "    plot_precision_recall,\n",
    "    plot_roc,\n",
    "    plot_precision_vs_score,\n",
    "    precision_at_score_percentile,\n",
    "    precision_by_score_buckets,\n",
    "    plot_precision_by_score_buckets,\n",
    "    plot_bucket_counts\n",
    ")\n",
    "\n",
    "# from score2ppv import score2ppv, score2ppv_model"
   ]
  },
  {
   "cell_type": "code",
   "execution_count": 9,
   "metadata": {},
   "outputs": [],
   "source": [
    "np.random.seed(42)"
   ]
  },
  {
   "cell_type": "code",
   "execution_count": 10,
   "metadata": {},
   "outputs": [],
   "source": [
    "%matplotlib inline\n",
    "import matplotlib.pyplot as plt\n",
    "import seaborn as sns\n",
    "sns.set()\n",
    "sns.set_palette(sns.color_palette(\"Set2\", 10))"
   ]
  },
  {
   "cell_type": "code",
   "execution_count": 11,
   "metadata": {},
   "outputs": [],
   "source": [
    "features_file = 'data/cig_features.parq'"
   ]
  },
  {
   "cell_type": "code",
   "execution_count": 12,
   "metadata": {},
   "outputs": [],
   "source": [
    "features = pd.read_parquet(features_file)"
   ]
  },
  {
   "cell_type": "code",
   "execution_count": 13,
   "metadata": {
    "scrolled": true
   },
   "outputs": [
    {
     "data": {
      "text/html": [
       "<div>\n",
       "<style scoped>\n",
       "    .dataframe tbody tr th:only-of-type {\n",
       "        vertical-align: middle;\n",
       "    }\n",
       "\n",
       "    .dataframe tbody tr th {\n",
       "        vertical-align: top;\n",
       "    }\n",
       "\n",
       "    .dataframe thead th {\n",
       "        text-align: right;\n",
       "    }\n",
       "</style>\n",
       "<table border=\"1\" class=\"dataframe\">\n",
       "  <thead>\n",
       "    <tr style=\"text-align: right;\">\n",
       "      <th></th>\n",
       "      <th>4522</th>\n",
       "      <th>2499</th>\n",
       "      <th>1413</th>\n",
       "      <th>4357</th>\n",
       "      <th>3830</th>\n",
       "    </tr>\n",
       "  </thead>\n",
       "  <tbody>\n",
       "    <tr>\n",
       "      <td>lead_id</td>\n",
       "      <td>9055365</td>\n",
       "      <td>9337921</td>\n",
       "      <td>1660939</td>\n",
       "      <td>13010742</td>\n",
       "      <td>10484415</td>\n",
       "    </tr>\n",
       "    <tr>\n",
       "      <td>form_data_id</td>\n",
       "      <td>438970</td>\n",
       "      <td>454948</td>\n",
       "      <td>230119</td>\n",
       "      <td>1134721</td>\n",
       "      <td>672895</td>\n",
       "    </tr>\n",
       "    <tr>\n",
       "      <td>lead_match_client_id</td>\n",
       "      <td>5815</td>\n",
       "      <td>5709</td>\n",
       "      <td>10</td>\n",
       "      <td>11</td>\n",
       "      <td>5817</td>\n",
       "    </tr>\n",
       "    <tr>\n",
       "      <td>structured_campaign_name</td>\n",
       "      <td>Martin Resource Management : Regional (Martin ...</td>\n",
       "      <td>Trans System Inc : System Transport Pacific No...</td>\n",
       "      <td>US Xpress : Dedicated : p5 : a13 : M_1140093 (R)</td>\n",
       "      <td>K and B Transportation Inc. : otr (OTR 4) : PM...</td>\n",
       "      <td>Ozark : Company Driver : PMC p5 : a1 : M_11350...</td>\n",
       "    </tr>\n",
       "    <tr>\n",
       "      <td>company_nicename</td>\n",
       "      <td>Martin Resource Management</td>\n",
       "      <td>System Transport</td>\n",
       "      <td>US Xpress</td>\n",
       "      <td>K&amp;B Transportation</td>\n",
       "      <td>Ozark Motor Lines, Inc</td>\n",
       "    </tr>\n",
       "    <tr>\n",
       "      <td>full_name</td>\n",
       "      <td>Curtis Hale</td>\n",
       "      <td>Danny Malone</td>\n",
       "      <td>Louis Hubbard</td>\n",
       "      <td>ROBERT TOBAR</td>\n",
       "      <td>Joel Bishop</td>\n",
       "    </tr>\n",
       "    <tr>\n",
       "      <td>hired</td>\n",
       "      <td>0</td>\n",
       "      <td>0</td>\n",
       "      <td>1</td>\n",
       "      <td>1</td>\n",
       "      <td>1</td>\n",
       "    </tr>\n",
       "    <tr>\n",
       "      <td>city</td>\n",
       "      <td>Longview</td>\n",
       "      <td>Long Beach</td>\n",
       "      <td>Montgomery</td>\n",
       "      <td>Covington</td>\n",
       "      <td>Flat Rock</td>\n",
       "    </tr>\n",
       "    <tr>\n",
       "      <td>state</td>\n",
       "      <td>TX</td>\n",
       "      <td>CA</td>\n",
       "      <td>AL</td>\n",
       "      <td>TN</td>\n",
       "      <td>NC</td>\n",
       "    </tr>\n",
       "    <tr>\n",
       "      <td>zip</td>\n",
       "      <td>75604</td>\n",
       "      <td>90804</td>\n",
       "      <td>36106</td>\n",
       "      <td>38019</td>\n",
       "      <td>28731</td>\n",
       "    </tr>\n",
       "    <tr>\n",
       "      <td>years_otr_exp</td>\n",
       "      <td>11-15 years</td>\n",
       "      <td>18-24 months</td>\n",
       "      <td>0-3 months</td>\n",
       "      <td>18-24 months</td>\n",
       "      <td>5 years</td>\n",
       "    </tr>\n",
       "    <tr>\n",
       "      <td>lease_purchase</td>\n",
       "      <td>0</td>\n",
       "      <td>0</td>\n",
       "      <td>0</td>\n",
       "      <td>0</td>\n",
       "      <td>0</td>\n",
       "    </tr>\n",
       "    <tr>\n",
       "      <td>drivers_license_class_a</td>\n",
       "      <td>1</td>\n",
       "      <td>1</td>\n",
       "      <td>1</td>\n",
       "      <td>1</td>\n",
       "      <td>1</td>\n",
       "    </tr>\n",
       "    <tr>\n",
       "      <td>driver_type</td>\n",
       "      <td>company_driver</td>\n",
       "      <td>company_driver</td>\n",
       "      <td>student</td>\n",
       "      <td>company_driver</td>\n",
       "      <td>company_driver</td>\n",
       "    </tr>\n",
       "    <tr>\n",
       "      <td>hazmat</td>\n",
       "      <td>0</td>\n",
       "      <td>0</td>\n",
       "      <td>0</td>\n",
       "      <td>0</td>\n",
       "      <td>0</td>\n",
       "    </tr>\n",
       "    <tr>\n",
       "      <td>tanker</td>\n",
       "      <td>1</td>\n",
       "      <td>0</td>\n",
       "      <td>0</td>\n",
       "      <td>0</td>\n",
       "      <td>0</td>\n",
       "    </tr>\n",
       "    <tr>\n",
       "      <td>doublestriples</td>\n",
       "      <td>0</td>\n",
       "      <td>0</td>\n",
       "      <td>0</td>\n",
       "      <td>0</td>\n",
       "      <td>0</td>\n",
       "    </tr>\n",
       "    <tr>\n",
       "      <td>tickets</td>\n",
       "      <td>0</td>\n",
       "      <td>0</td>\n",
       "      <td>0</td>\n",
       "      <td>0</td>\n",
       "      <td>0</td>\n",
       "    </tr>\n",
       "    <tr>\n",
       "      <td>job_alerts</td>\n",
       "      <td>1</td>\n",
       "      <td>0</td>\n",
       "      <td>1</td>\n",
       "      <td>1</td>\n",
       "      <td>0</td>\n",
       "    </tr>\n",
       "    <tr>\n",
       "      <td>sms_alerts_opt_in</td>\n",
       "      <td>1</td>\n",
       "      <td>1</td>\n",
       "      <td>0</td>\n",
       "      <td>0</td>\n",
       "      <td>1</td>\n",
       "    </tr>\n",
       "    <tr>\n",
       "      <td>came_from_suggested_job</td>\n",
       "      <td>0</td>\n",
       "      <td>1</td>\n",
       "      <td>0</td>\n",
       "      <td>1</td>\n",
       "      <td>0</td>\n",
       "    </tr>\n",
       "    <tr>\n",
       "      <td>run_single</td>\n",
       "      <td>1</td>\n",
       "      <td>1</td>\n",
       "      <td>0</td>\n",
       "      <td>1</td>\n",
       "      <td>1</td>\n",
       "    </tr>\n",
       "    <tr>\n",
       "      <td>run_team</td>\n",
       "      <td>0</td>\n",
       "      <td>0</td>\n",
       "      <td>0</td>\n",
       "      <td>0</td>\n",
       "      <td>0</td>\n",
       "    </tr>\n",
       "    <tr>\n",
       "      <td>flatbed</td>\n",
       "      <td>1</td>\n",
       "      <td>0</td>\n",
       "      <td>0</td>\n",
       "      <td>0</td>\n",
       "      <td>1</td>\n",
       "    </tr>\n",
       "    <tr>\n",
       "      <td>van</td>\n",
       "      <td>1</td>\n",
       "      <td>1</td>\n",
       "      <td>0</td>\n",
       "      <td>1</td>\n",
       "      <td>1</td>\n",
       "    </tr>\n",
       "    <tr>\n",
       "      <td>reefer</td>\n",
       "      <td>0</td>\n",
       "      <td>1</td>\n",
       "      <td>0</td>\n",
       "      <td>0</td>\n",
       "      <td>1</td>\n",
       "    </tr>\n",
       "    <tr>\n",
       "      <td>specialized</td>\n",
       "      <td>0</td>\n",
       "      <td>0</td>\n",
       "      <td>0</td>\n",
       "      <td>0</td>\n",
       "      <td>0</td>\n",
       "    </tr>\n",
       "    <tr>\n",
       "      <td>multi</td>\n",
       "      <td>0</td>\n",
       "      <td>0</td>\n",
       "      <td>0</td>\n",
       "      <td>0</td>\n",
       "      <td>0</td>\n",
       "    </tr>\n",
       "    <tr>\n",
       "      <td>oversized</td>\n",
       "      <td>0</td>\n",
       "      <td>0</td>\n",
       "      <td>0</td>\n",
       "      <td>0</td>\n",
       "      <td>0</td>\n",
       "    </tr>\n",
       "    <tr>\n",
       "      <td>stepdeck</td>\n",
       "      <td>0</td>\n",
       "      <td>0</td>\n",
       "      <td>0</td>\n",
       "      <td>0</td>\n",
       "      <td>0</td>\n",
       "    </tr>\n",
       "    <tr>\n",
       "      <td>heavy_haul</td>\n",
       "      <td>0</td>\n",
       "      <td>0</td>\n",
       "      <td>0</td>\n",
       "      <td>0</td>\n",
       "      <td>0</td>\n",
       "    </tr>\n",
       "    <tr>\n",
       "      <td>haul_tanker</td>\n",
       "      <td>1</td>\n",
       "      <td>0</td>\n",
       "      <td>0</td>\n",
       "      <td>0</td>\n",
       "      <td>0</td>\n",
       "    </tr>\n",
       "    <tr>\n",
       "      <td>exp_yr_num</td>\n",
       "      <td>13</td>\n",
       "      <td>2</td>\n",
       "      <td>0.25</td>\n",
       "      <td>2</td>\n",
       "      <td>5</td>\n",
       "    </tr>\n",
       "    <tr>\n",
       "      <td>climate_region</td>\n",
       "      <td>S</td>\n",
       "      <td>W</td>\n",
       "      <td>SE</td>\n",
       "      <td>C</td>\n",
       "      <td>SE</td>\n",
       "    </tr>\n",
       "  </tbody>\n",
       "</table>\n",
       "</div>"
      ],
      "text/plain": [
       "                                                                       4522  \\\n",
       "lead_id                                                             9055365   \n",
       "form_data_id                                                         438970   \n",
       "lead_match_client_id                                                   5815   \n",
       "structured_campaign_name  Martin Resource Management : Regional (Martin ...   \n",
       "company_nicename                                 Martin Resource Management   \n",
       "full_name                                                       Curtis Hale   \n",
       "hired                                                                     0   \n",
       "city                                                               Longview   \n",
       "state                                                                    TX   \n",
       "zip                                                                   75604   \n",
       "years_otr_exp                                                   11-15 years   \n",
       "lease_purchase                                                            0   \n",
       "drivers_license_class_a                                                   1   \n",
       "driver_type                                                  company_driver   \n",
       "hazmat                                                                    0   \n",
       "tanker                                                                    1   \n",
       "doublestriples                                                            0   \n",
       "tickets                                                                   0   \n",
       "job_alerts                                                                1   \n",
       "sms_alerts_opt_in                                                         1   \n",
       "came_from_suggested_job                                                   0   \n",
       "run_single                                                                1   \n",
       "run_team                                                                  0   \n",
       "flatbed                                                                   1   \n",
       "van                                                                       1   \n",
       "reefer                                                                    0   \n",
       "specialized                                                               0   \n",
       "multi                                                                     0   \n",
       "oversized                                                                 0   \n",
       "stepdeck                                                                  0   \n",
       "heavy_haul                                                                0   \n",
       "haul_tanker                                                               1   \n",
       "exp_yr_num                                                               13   \n",
       "climate_region                                                            S   \n",
       "\n",
       "                                                                       2499  \\\n",
       "lead_id                                                             9337921   \n",
       "form_data_id                                                         454948   \n",
       "lead_match_client_id                                                   5709   \n",
       "structured_campaign_name  Trans System Inc : System Transport Pacific No...   \n",
       "company_nicename                                           System Transport   \n",
       "full_name                                                      Danny Malone   \n",
       "hired                                                                     0   \n",
       "city                                                             Long Beach   \n",
       "state                                                                    CA   \n",
       "zip                                                                   90804   \n",
       "years_otr_exp                                                  18-24 months   \n",
       "lease_purchase                                                            0   \n",
       "drivers_license_class_a                                                   1   \n",
       "driver_type                                                  company_driver   \n",
       "hazmat                                                                    0   \n",
       "tanker                                                                    0   \n",
       "doublestriples                                                            0   \n",
       "tickets                                                                   0   \n",
       "job_alerts                                                                0   \n",
       "sms_alerts_opt_in                                                         1   \n",
       "came_from_suggested_job                                                   1   \n",
       "run_single                                                                1   \n",
       "run_team                                                                  0   \n",
       "flatbed                                                                   0   \n",
       "van                                                                       1   \n",
       "reefer                                                                    1   \n",
       "specialized                                                               0   \n",
       "multi                                                                     0   \n",
       "oversized                                                                 0   \n",
       "stepdeck                                                                  0   \n",
       "heavy_haul                                                                0   \n",
       "haul_tanker                                                               0   \n",
       "exp_yr_num                                                                2   \n",
       "climate_region                                                            W   \n",
       "\n",
       "                                                                      1413  \\\n",
       "lead_id                                                            1660939   \n",
       "form_data_id                                                        230119   \n",
       "lead_match_client_id                                                    10   \n",
       "structured_campaign_name  US Xpress : Dedicated : p5 : a13 : M_1140093 (R)   \n",
       "company_nicename                                                 US Xpress   \n",
       "full_name                                                    Louis Hubbard   \n",
       "hired                                                                    1   \n",
       "city                                                            Montgomery   \n",
       "state                                                                   AL   \n",
       "zip                                                                  36106   \n",
       "years_otr_exp                                                   0-3 months   \n",
       "lease_purchase                                                           0   \n",
       "drivers_license_class_a                                                  1   \n",
       "driver_type                                                        student   \n",
       "hazmat                                                                   0   \n",
       "tanker                                                                   0   \n",
       "doublestriples                                                           0   \n",
       "tickets                                                                  0   \n",
       "job_alerts                                                               1   \n",
       "sms_alerts_opt_in                                                        0   \n",
       "came_from_suggested_job                                                  0   \n",
       "run_single                                                               0   \n",
       "run_team                                                                 0   \n",
       "flatbed                                                                  0   \n",
       "van                                                                      0   \n",
       "reefer                                                                   0   \n",
       "specialized                                                              0   \n",
       "multi                                                                    0   \n",
       "oversized                                                                0   \n",
       "stepdeck                                                                 0   \n",
       "heavy_haul                                                               0   \n",
       "haul_tanker                                                              0   \n",
       "exp_yr_num                                                            0.25   \n",
       "climate_region                                                          SE   \n",
       "\n",
       "                                                                       4357  \\\n",
       "lead_id                                                            13010742   \n",
       "form_data_id                                                        1134721   \n",
       "lead_match_client_id                                                     11   \n",
       "structured_campaign_name  K and B Transportation Inc. : otr (OTR 4) : PM...   \n",
       "company_nicename                                         K&B Transportation   \n",
       "full_name                                                      ROBERT TOBAR   \n",
       "hired                                                                     1   \n",
       "city                                                              Covington   \n",
       "state                                                                    TN   \n",
       "zip                                                                   38019   \n",
       "years_otr_exp                                                  18-24 months   \n",
       "lease_purchase                                                            0   \n",
       "drivers_license_class_a                                                   1   \n",
       "driver_type                                                  company_driver   \n",
       "hazmat                                                                    0   \n",
       "tanker                                                                    0   \n",
       "doublestriples                                                            0   \n",
       "tickets                                                                   0   \n",
       "job_alerts                                                                1   \n",
       "sms_alerts_opt_in                                                         0   \n",
       "came_from_suggested_job                                                   1   \n",
       "run_single                                                                1   \n",
       "run_team                                                                  0   \n",
       "flatbed                                                                   0   \n",
       "van                                                                       1   \n",
       "reefer                                                                    0   \n",
       "specialized                                                               0   \n",
       "multi                                                                     0   \n",
       "oversized                                                                 0   \n",
       "stepdeck                                                                  0   \n",
       "heavy_haul                                                                0   \n",
       "haul_tanker                                                               0   \n",
       "exp_yr_num                                                                2   \n",
       "climate_region                                                            C   \n",
       "\n",
       "                                                                       3830  \n",
       "lead_id                                                            10484415  \n",
       "form_data_id                                                         672895  \n",
       "lead_match_client_id                                                   5817  \n",
       "structured_campaign_name  Ozark : Company Driver : PMC p5 : a1 : M_11350...  \n",
       "company_nicename                                     Ozark Motor Lines, Inc  \n",
       "full_name                                                       Joel Bishop  \n",
       "hired                                                                     1  \n",
       "city                                                              Flat Rock  \n",
       "state                                                                    NC  \n",
       "zip                                                                   28731  \n",
       "years_otr_exp                                                       5 years  \n",
       "lease_purchase                                                            0  \n",
       "drivers_license_class_a                                                   1  \n",
       "driver_type                                                  company_driver  \n",
       "hazmat                                                                    0  \n",
       "tanker                                                                    0  \n",
       "doublestriples                                                            0  \n",
       "tickets                                                                   0  \n",
       "job_alerts                                                                0  \n",
       "sms_alerts_opt_in                                                         1  \n",
       "came_from_suggested_job                                                   0  \n",
       "run_single                                                                1  \n",
       "run_team                                                                  0  \n",
       "flatbed                                                                   1  \n",
       "van                                                                       1  \n",
       "reefer                                                                    1  \n",
       "specialized                                                               0  \n",
       "multi                                                                     0  \n",
       "oversized                                                                 0  \n",
       "stepdeck                                                                  0  \n",
       "heavy_haul                                                                0  \n",
       "haul_tanker                                                               0  \n",
       "exp_yr_num                                                                5  \n",
       "climate_region                                                           SE  "
      ]
     },
     "execution_count": 13,
     "metadata": {},
     "output_type": "execute_result"
    }
   ],
   "source": [
    "features.sample(5).T"
   ]
  },
  {
   "cell_type": "code",
   "execution_count": 14,
   "metadata": {},
   "outputs": [
    {
     "data": {
      "text/plain": [
       "1558"
      ]
     },
     "execution_count": 14,
     "metadata": {},
     "output_type": "execute_result"
    }
   ],
   "source": [
    "features.hired.sum()"
   ]
  },
  {
   "cell_type": "code",
   "execution_count": 15,
   "metadata": {},
   "outputs": [
    {
     "data": {
      "text/plain": [
       "0.30471347545472327"
      ]
     },
     "execution_count": 15,
     "metadata": {},
     "output_type": "execute_result"
    }
   ],
   "source": [
    "features.hired.sum() / len(features)"
   ]
  },
  {
   "cell_type": "code",
   "execution_count": 16,
   "metadata": {},
   "outputs": [],
   "source": [
    "def ordinal_keys(s):\n",
    "    sset = set(s)\n",
    "    sset.add('')\n",
    "    return sorted(sset)"
   ]
  },
  {
   "cell_type": "code",
   "execution_count": 17,
   "metadata": {},
   "outputs": [],
   "source": [
    "category_keys = [\n",
    "    'driver_type',\n",
    "    'climate_region'\n",
    "]\n",
    "\n",
    "for ck in category_keys:\n",
    "    features[ck] = features[ck].fillna('')\n",
    "\n",
    "category_values = {x: ordinal_keys(features[x].unique()) for x in category_keys}\n",
    "category_lookup = {x:x for x in category_keys}\n",
    "\n",
    "def get_cat_vals(cat):\n",
    "    return category_values[category_lookup[cat]]\n",
    "\n",
    "def make_cat_encoder(atts, encoding='onehot', handle_unknown='ignore'):\n",
    "    return CategoricalEncoder(encoding=encoding,\n",
    "                              categories=[get_cat_vals(x) for x in atts],\n",
    "                              handle_unknown=handle_unknown)"
   ]
  },
  {
   "cell_type": "code",
   "execution_count": 18,
   "metadata": {},
   "outputs": [],
   "source": [
    "numeric_atts = [\n",
    "    'exp_yr_num',\n",
    "    'tickets',\n",
    "    # rest are boolean\n",
    "    \n",
    "    'lease_purchase',\n",
    "    'drivers_license_class_a',\n",
    "    'hazmat',\n",
    "    'tanker',\n",
    "    'doublestriples',\n",
    "    'job_alerts',\n",
    "    'sms_alerts_opt_in',\n",
    "    'came_from_suggested_job',\n",
    "    'run_single',\n",
    "    'run_team',\n",
    "    'flatbed',\n",
    "    'van',\n",
    "    'reefer',\n",
    "    'multi',\n",
    "    'oversized',\n",
    "    'stepdeck',\n",
    "    'heavy_haul',\n",
    "    'haul_tanker',\n",
    "]\n",
    "\n",
    "category_atts = [\n",
    "    'driver_type',\n",
    "    'climate_region'\n",
    "]"
   ]
  },
  {
   "cell_type": "code",
   "execution_count": 19,
   "metadata": {},
   "outputs": [
    {
     "data": {
      "text/plain": [
       "(4090, 1023)"
      ]
     },
     "execution_count": 19,
     "metadata": {},
     "output_type": "execute_result"
    }
   ],
   "source": [
    "train_set, test_set = train_test_split(features.copy(), test_size=0.2)\n",
    "len(train_set), len(test_set)"
   ]
  },
  {
   "cell_type": "code",
   "execution_count": 20,
   "metadata": {},
   "outputs": [],
   "source": [
    "num_pipeline = Pipeline([\n",
    "    ('num_selector', DataFrameSelector(numeric_atts)),\n",
    "    ('std_scaler', StandardScaler())\n",
    "])\n",
    "\n",
    "cat_pipeline = Pipeline([\n",
    "    ('cat_selector', DataFrameSelector(category_atts)),\n",
    "    ('onehot_encoder', make_cat_encoder(category_atts, encoding='onehot', handle_unknown='error'))\n",
    "])\n",
    "\n",
    "pipeline = FeatureUnion([\n",
    "    ('num_pipeline', num_pipeline),\n",
    "    ('cat_pipeline', cat_pipeline)\n",
    "])"
   ]
  },
  {
   "cell_type": "code",
   "execution_count": 21,
   "metadata": {},
   "outputs": [
    {
     "name": "stdout",
     "output_type": "stream",
     "text": [
      "CPU times: user 14.2 ms, sys: 444 µs, total: 14.6 ms\n",
      "Wall time: 13 ms\n"
     ]
    },
    {
     "data": {
      "text/plain": [
       "FeatureUnion(n_jobs=None,\n",
       "             transformer_list=[('num_pipeline',\n",
       "                                Pipeline(memory=None,\n",
       "                                         steps=[('num_selector',\n",
       "                                                 DataFrameSelector(attribute_names=['exp_yr_num',\n",
       "                                                                                    'tickets',\n",
       "                                                                                    'lease_purchase',\n",
       "                                                                                    'drivers_license_class_a',\n",
       "                                                                                    'hazmat',\n",
       "                                                                                    'tanker',\n",
       "                                                                                    'doublestriples',\n",
       "                                                                                    'job_alerts',\n",
       "                                                                                    'sms_alerts_opt_in',\n",
       "                                                                                    'came_from_suggested_job',\n",
       "                                                                                    'run_single',\n",
       "                                                                                    'run_team',\n",
       "                                                                                    'flatbed',\n",
       "                                                                                    'van',\n",
       "                                                                                    'reefer',\n",
       "                                                                                    'mu...\n",
       "                                                 DataFrameSelector(attribute_names=['driver_type',\n",
       "                                                                                    'climate_region'])),\n",
       "                                                ('onehot_encoder',\n",
       "                                                 CategoricalEncoder(categories=[['',\n",
       "                                                                                 'company_driver',\n",
       "                                                                                 'lease_purchase',\n",
       "                                                                                 'owner_operator',\n",
       "                                                                                 'student'],\n",
       "                                                                                ['',\n",
       "                                                                                 'AK',\n",
       "                                                                                 'C',\n",
       "                                                                                 'ENC',\n",
       "                                                                                 'HI',\n",
       "                                                                                 'NE',\n",
       "                                                                                 'NW',\n",
       "                                                                                 'S',\n",
       "                                                                                 'SE',\n",
       "                                                                                 'SW',\n",
       "                                                                                 'W',\n",
       "                                                                                 'WNC']],\n",
       "                                                                    dtype=<class 'numpy.float64'>,\n",
       "                                                                    encoding='onehot',\n",
       "                                                                    handle_unknown='error'))],\n",
       "                                         verbose=False))],\n",
       "             transformer_weights=None, verbose=False)"
      ]
     },
     "execution_count": 21,
     "metadata": {},
     "output_type": "execute_result"
    }
   ],
   "source": [
    "%%time\n",
    "pipeline.fit(train_set)"
   ]
  },
  {
   "cell_type": "code",
   "execution_count": 44,
   "metadata": {},
   "outputs": [],
   "source": [
    "X_train = pipeline.transform(train_set).toarray()\n",
    "y_train = train_set.hired"
   ]
  },
  {
   "cell_type": "code",
   "execution_count": 45,
   "metadata": {},
   "outputs": [],
   "source": [
    "X_test = pipeline.transform(test_set).toarray()\n",
    "y_test = test_set.hired"
   ]
  },
  {
   "cell_type": "code",
   "execution_count": 46,
   "metadata": {},
   "outputs": [
    {
     "data": {
      "text/plain": [
       "((4090, 37), (1023, 37))"
      ]
     },
     "execution_count": 46,
     "metadata": {},
     "output_type": "execute_result"
    }
   ],
   "source": [
    "X_train.shape, X_test.shape"
   ]
  },
  {
   "cell_type": "code",
   "execution_count": 29,
   "metadata": {},
   "outputs": [
    {
     "data": {
      "text/plain": [
       "37"
      ]
     },
     "execution_count": 29,
     "metadata": {},
     "output_type": "execute_result"
    }
   ],
   "source": [
    "n_features = X_train.shape[1]\n",
    "n_features"
   ]
  },
  {
   "cell_type": "code",
   "execution_count": 47,
   "metadata": {},
   "outputs": [],
   "source": [
    "input = layers.Input(shape=(n_features,))\n",
    "x = layers.Dense(16, activation='relu')(input)\n",
    "x = layers.Dropout(0.2)(x)\n",
    "output = layers.Dense(1, activation='sigmoid')(x)\n",
    "\n",
    "model = models.Model(input, output)\n",
    "model.compile(optimizer='rmsprop', loss='binary_crossentropy')"
   ]
  },
  {
   "cell_type": "code",
   "execution_count": 48,
   "metadata": {},
   "outputs": [
    {
     "name": "stdout",
     "output_type": "stream",
     "text": [
      "Epoch 1/40\n",
      "4090/4090 [==============================] - 2s 369us/sample - loss: 0.7745\n",
      "Epoch 2/40\n",
      "4090/4090 [==============================] - 0s 3us/sample - loss: 0.7339\n",
      "Epoch 3/40\n",
      "4090/4090 [==============================] - 0s 3us/sample - loss: 0.7186\n",
      "Epoch 4/40\n",
      "4090/4090 [==============================] - 0s 3us/sample - loss: 0.7042\n",
      "Epoch 5/40\n",
      "4090/4090 [==============================] - 0s 3us/sample - loss: 0.6785\n",
      "Epoch 6/40\n",
      "4090/4090 [==============================] - 0s 3us/sample - loss: 0.6681\n",
      "Epoch 7/40\n",
      "4090/4090 [==============================] - 0s 3us/sample - loss: 0.6624\n",
      "Epoch 8/40\n",
      "4090/4090 [==============================] - 0s 3us/sample - loss: 0.6576\n",
      "Epoch 9/40\n",
      "4090/4090 [==============================] - 0s 3us/sample - loss: 0.6425\n",
      "Epoch 10/40\n",
      "4090/4090 [==============================] - 0s 2us/sample - loss: 0.6368\n",
      "Epoch 11/40\n",
      "4090/4090 [==============================] - 0s 3us/sample - loss: 0.6350\n",
      "Epoch 12/40\n",
      "4090/4090 [==============================] - 0s 3us/sample - loss: 0.6196\n",
      "Epoch 13/40\n",
      "4090/4090 [==============================] - 0s 3us/sample - loss: 0.6221\n",
      "Epoch 14/40\n",
      "4090/4090 [==============================] - 0s 3us/sample - loss: 0.6011\n",
      "Epoch 15/40\n",
      "4090/4090 [==============================] - 0s 3us/sample - loss: 0.6056\n",
      "Epoch 16/40\n",
      "4090/4090 [==============================] - 0s 3us/sample - loss: 0.6014\n",
      "Epoch 17/40\n",
      "4090/4090 [==============================] - 0s 3us/sample - loss: 0.5976\n",
      "Epoch 18/40\n",
      "4090/4090 [==============================] - 0s 3us/sample - loss: 0.5892\n",
      "Epoch 19/40\n",
      "4090/4090 [==============================] - 0s 3us/sample - loss: 0.5805\n",
      "Epoch 20/40\n",
      "4090/4090 [==============================] - 0s 3us/sample - loss: 0.5780\n",
      "Epoch 21/40\n",
      "4090/4090 [==============================] - 0s 4us/sample - loss: 0.5722\n",
      "Epoch 22/40\n",
      "4090/4090 [==============================] - 0s 3us/sample - loss: 0.5715\n",
      "Epoch 23/40\n",
      "4090/4090 [==============================] - 0s 3us/sample - loss: 0.5660\n",
      "Epoch 24/40\n",
      "4090/4090 [==============================] - 0s 3us/sample - loss: 0.5609\n",
      "Epoch 25/40\n",
      "4090/4090 [==============================] - 0s 3us/sample - loss: 0.5558\n",
      "Epoch 26/40\n",
      "4090/4090 [==============================] - 0s 3us/sample - loss: 0.5605\n",
      "Epoch 27/40\n",
      "4090/4090 [==============================] - 0s 3us/sample - loss: 0.5479\n",
      "Epoch 28/40\n",
      "4090/4090 [==============================] - 0s 2us/sample - loss: 0.5497\n",
      "Epoch 29/40\n",
      "4090/4090 [==============================] - 0s 3us/sample - loss: 0.5393\n",
      "Epoch 30/40\n",
      "4090/4090 [==============================] - 0s 2us/sample - loss: 0.5361\n",
      "Epoch 31/40\n",
      "4090/4090 [==============================] - 0s 2us/sample - loss: 0.5357\n",
      "Epoch 32/40\n",
      "4090/4090 [==============================] - 0s 3us/sample - loss: 0.5372\n",
      "Epoch 33/40\n",
      "4090/4090 [==============================] - 0s 3us/sample - loss: 0.5342\n",
      "Epoch 34/40\n",
      "4090/4090 [==============================] - 0s 2us/sample - loss: 0.5323\n",
      "Epoch 35/40\n",
      "4090/4090 [==============================] - 0s 3us/sample - loss: 0.5336\n",
      "Epoch 36/40\n",
      "4090/4090 [==============================] - 0s 3us/sample - loss: 0.5252\n",
      "Epoch 37/40\n",
      "4090/4090 [==============================] - 0s 3us/sample - loss: 0.5263\n",
      "Epoch 38/40\n",
      "4090/4090 [==============================] - 0s 3us/sample - loss: 0.5269\n",
      "Epoch 39/40\n",
      "4090/4090 [==============================] - 0s 3us/sample - loss: 0.5213\n",
      "Epoch 40/40\n",
      "4090/4090 [==============================] - 0s 3us/sample - loss: 0.5175\n",
      "CPU times: user 1.4 s, sys: 412 ms, total: 1.81 s\n",
      "Wall time: 2.16 s\n"
     ]
    }
   ],
   "source": [
    "%%time\n",
    "history = model.fit(X_train, y_train, batch_size=1024, epochs=40,\n",
    "          class_weight=compute_class_weight('balanced', [0,1], y_train)\n",
    "         )"
   ]
  },
  {
   "cell_type": "code",
   "execution_count": 49,
   "metadata": {},
   "outputs": [],
   "source": [
    "y_score = model.predict(X_test)"
   ]
  },
  {
   "cell_type": "code",
   "execution_count": 50,
   "metadata": {},
   "outputs": [
    {
     "data": {
      "text/plain": [
       "0.8092340149302174"
      ]
     },
     "execution_count": 50,
     "metadata": {},
     "output_type": "execute_result"
    }
   ],
   "source": [
    "roc_auc_score(y_test, y_score)"
   ]
  },
  {
   "cell_type": "code",
   "execution_count": 51,
   "metadata": {},
   "outputs": [
    {
     "data": {
      "text/plain": [
       "0.6845619575955618"
      ]
     },
     "execution_count": 51,
     "metadata": {},
     "output_type": "execute_result"
    }
   ],
   "source": [
    "average_precision_score(y_test, y_score)"
   ]
  },
  {
   "cell_type": "code",
   "execution_count": 52,
   "metadata": {},
   "outputs": [
    {
     "data": {
      "text/plain": [
       "0.8155339805825242"
      ]
     },
     "execution_count": 52,
     "metadata": {},
     "output_type": "execute_result"
    }
   ],
   "source": [
    "precision_at_score_percentile(y_test, y_score, 90)"
   ]
  },
  {
   "cell_type": "code",
   "execution_count": 53,
   "metadata": {},
   "outputs": [
    {
     "data": {
      "text/plain": [
       "0.8181818181818182"
      ]
     },
     "execution_count": 53,
     "metadata": {},
     "output_type": "execute_result"
    }
   ],
   "source": [
    "precision_at_score_percentile(y_test, y_score, 99)"
   ]
  },
  {
   "cell_type": "code",
   "execution_count": 54,
   "metadata": {},
   "outputs": [
    {
     "data": {
      "image/png": "[encoded data removed]",
      "text/plain": [
       "<Figure size 432x288 with 1 Axes>"
      ]
     },
     "metadata": {},
     "output_type": "display_data"
    }
   ],
   "source": [
    "plot_roc(y_test, y_score)"
   ]
  },
  {
   "cell_type": "code",
   "execution_count": 55,
   "metadata": {},
   "outputs": [
    {
     "data": {
      "image/png": "[encoded data removed]",
      "text/plain": [
       "<Figure size 432x288 with 1 Axes>"
      ]
     },
     "metadata": {},
     "output_type": "display_data"
    }
   ],
   "source": [
    "plot_precision_recall(y_test, y_score)"
   ]
  },
  {
   "cell_type": "code",
   "execution_count": 56,
   "metadata": {},
   "outputs": [
    {
     "data": {
      "image/png": "[encoded data removed]",
      "text/plain": [
       "<Figure size 1728x576 with 1 Axes>"
      ]
     },
     "metadata": {},
     "output_type": "display_data"
    }
   ],
   "source": [
    "plt.figure(figsize=(24,8))\n",
    "plot_bucket_counts(y_test, y_score, 10)"
   ]
  },
  {
   "cell_type": "code",
   "execution_count": 57,
   "metadata": {},
   "outputs": [],
   "source": [
    "# len(test_set)"
   ]
  },
  {
   "cell_type": "code",
   "execution_count": 58,
   "metadata": {},
   "outputs": [],
   "source": [
    "# len(y_score)"
   ]
  },
  {
   "cell_type": "code",
   "execution_count": 59,
   "metadata": {},
   "outputs": [],
   "source": [
    "# y_score"
   ]
  },
  {
   "cell_type": "code",
   "execution_count": 61,
   "metadata": {},
   "outputs": [],
   "source": [
    "# test_set['score'] = y_score"
   ]
  },
  {
   "cell_type": "code",
   "execution_count": null,
   "metadata": {},
   "outputs": [],
   "source": [
    "# test_set.sample(5).T"
   ]
  },
  {
   "cell_type": "code",
   "execution_count": null,
   "metadata": {},
   "outputs": [],
   "source": [
    "# test_set.to_excel('data/cig_test_scored.xlsx', index=False)"
   ]
  }
 ],
 "metadata": {
  "kernelspec": {
   "display_name": "Python 3",
   "language": "python",
   "name": "python3"
  },
  "language_info": {
   "codemirror_mode": {
    "name": "ipython",
    "version": 3
   },
   "file_extension": ".py",
   "mimetype": "text/x-python",
   "name": "python",
   "nbconvert_exporter": "python",
   "pygments_lexer": "ipython3",
   "version": "3.6.7"
  }
 },
 "nbformat": 4,
 "nbformat_minor": 2
}
